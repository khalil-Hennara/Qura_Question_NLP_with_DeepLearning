{
 "cells": [
  {
   "cell_type": "markdown",
   "metadata": {
    "id": "0KT_07smfdCu"
   },
   "source": [
    "# import Library and data"
   ]
  },
  {
   "cell_type": "code",
   "execution_count": 1,
   "metadata": {
    "id": "HmY35z9B_yBV"
   },
   "outputs": [],
   "source": [
    "import re\n",
    "import os\n",
    "\n",
    "import numpy as np\n",
    "import tensorflow as tf\n",
    "import tensorflow.keras as keras\n",
    "import pandas as pd\n",
    "import matplotlib.pyplot as plt\n",
    "\n",
    "import sklearn.model_selection as model_selection\n",
    "import sklearn.metrics as metrics "
   ]
  },
  {
   "cell_type": "code",
   "execution_count": 2,
   "metadata": {
    "colab": {
     "base_uri": "https://localhost:8080/"
    },
    "id": "zbWj_zQCWUx8",
    "outputId": "9c6f0956-1f17-48d3-9990-eda5b7a9c8fb"
   },
   "outputs": [
    {
     "name": "stdout",
     "output_type": "stream",
     "text": [
      "Mounted at /gdrive\n",
      "/gdrive\n"
     ]
    }
   ],
   "source": [
    "from google.colab import drive\n",
    "drive.mount('/gdrive')\n",
    "%cd /gdrive"
   ]
  },
  {
   "cell_type": "code",
   "execution_count": null,
   "metadata": {
    "id": "A12k_EdHAAWJ"
   },
   "outputs": [],
   "source": [
    "train_df=pd.read_csv('/content/drive/MyDrive/Kaggle/Quora_pairs_question/train.csv.zip')\n",
    "#you can change the path to be consist with your "
   ]
  },
  {
   "cell_type": "markdown",
   "metadata": {
    "id": "uD2mdXeeKLul"
   },
   "source": [
    "# Data Analysis"
   ]
  },
  {
   "cell_type": "code",
   "execution_count": null,
   "metadata": {
    "colab": {
     "base_uri": "https://localhost:8080/"
    },
    "id": "qtzxXlnyFZUy",
    "outputId": "aac9a1ce-853e-4924-8fd7-75bf13686650"
   },
   "outputs": [
    {
     "name": "stdout",
     "output_type": "stream",
     "text": [
      "<class 'pandas.core.frame.DataFrame'>\n",
      "Int64Index: 404287 entries, 0 to 404289\n",
      "Data columns (total 8 columns):\n",
      " #   Column          Non-Null Count   Dtype \n",
      "---  ------          --------------   ----- \n",
      " 0   id              404287 non-null  int64 \n",
      " 1   qid1            404287 non-null  int64 \n",
      " 2   qid2            404287 non-null  int64 \n",
      " 3   question1       404287 non-null  object\n",
      " 4   question2       404287 non-null  object\n",
      " 5   is_duplicate    404287 non-null  int64 \n",
      " 6   q1_word_length  404287 non-null  int64 \n",
      " 7   q2_word_length  404287 non-null  int64 \n",
      "dtypes: int64(6), object(2)\n",
      "memory usage: 27.8+ MB\n"
     ]
    }
   ],
   "source": [
    "train_df.info()"
   ]
  },
  {
   "cell_type": "code",
   "execution_count": null,
   "metadata": {
    "id": "5S1UHhUsD6pl"
   },
   "outputs": [],
   "source": [
    "train_df.dropna(inplace=True)"
   ]
  },
  {
   "cell_type": "code",
   "execution_count": null,
   "metadata": {
    "id": "-ijFpfqpJZtV"
   },
   "outputs": [],
   "source": [
    "train_df['q1_word_length']=train_df['question1'].apply(lambda x: len(x.split()))\n",
    "train_df['q2_word_length']=train_df['question2'].apply(lambda x:len(x.split()))"
   ]
  },
  {
   "cell_type": "code",
   "execution_count": null,
   "metadata": {
    "colab": {
     "base_uri": "https://localhost:8080/"
    },
    "id": "KvVqyNbFJ4Rj",
    "outputId": "00e795b0-8d6b-4cfc-b0bb-d3f9bd83b1ce"
   },
   "outputs": [
    {
     "data": {
      "text/plain": [
       "count    404287.000000\n",
       "mean         10.942256\n",
       "std           5.428812\n",
       "min           1.000000\n",
       "25%           7.000000\n",
       "50%          10.000000\n",
       "75%          13.000000\n",
       "max         125.000000\n",
       "Name: q1_word_length, dtype: float64"
      ]
     },
     "execution_count": 17,
     "metadata": {
      "tags": []
     },
     "output_type": "execute_result"
    }
   ],
   "source": [
    "train_df['q1_word_length'].describe()"
   ]
  },
  {
   "cell_type": "code",
   "execution_count": null,
   "metadata": {
    "colab": {
     "base_uri": "https://localhost:8080/"
    },
    "id": "ywG_fwuvJ8JX",
    "outputId": "3a5762e7-2ac7-48ae-fd21-5a210f157106"
   },
   "outputs": [
    {
     "data": {
      "text/plain": [
       "count    404287.000000\n",
       "mean         11.182017\n",
       "std           6.305210\n",
       "min           1.000000\n",
       "25%           7.000000\n",
       "50%          10.000000\n",
       "75%          13.000000\n",
       "max         237.000000\n",
       "Name: q2_word_length, dtype: float64"
      ]
     },
     "execution_count": 18,
     "metadata": {
      "tags": []
     },
     "output_type": "execute_result"
    }
   ],
   "source": [
    "train_df['q2_word_length'].describe()"
   ]
  },
  {
   "cell_type": "code",
   "execution_count": null,
   "metadata": {
    "colab": {
     "base_uri": "https://localhost:8080/",
     "height": 352
    },
    "id": "Tm7K3KaWKcp5",
    "outputId": "79ea075f-8463-44e7-bb82-7cd51a930302"
   },
   "outputs": [
    {
     "data": {
      "text/plain": [
       "(array([3.11839e+05, 8.25070e+04, 9.07300e+03, 6.82000e+02, 1.60000e+02,\n",
       "        2.30000e+01, 2.00000e+00, 0.00000e+00, 0.00000e+00, 1.00000e+00]),\n",
       " array([  1. ,  13.4,  25.8,  38.2,  50.6,  63. ,  75.4,  87.8, 100.2,\n",
       "        112.6, 125. ]),\n",
       " <a list of 10 Patch objects>)"
      ]
     },
     "execution_count": 19,
     "metadata": {
      "tags": []
     },
     "output_type": "execute_result"
    },
    {
     "data": {
      "image/png": "[encoded data removed]",
      "text/plain": [
       "<Figure size 432x288 with 1 Axes>"
      ]
     },
     "metadata": {
      "needs_background": "light",
      "tags": []
     },
     "output_type": "display_data"
    }
   ],
   "source": [
    "plt.hist(train_df['q1_word_length'])"
   ]
  },
  {
   "cell_type": "code",
   "execution_count": null,
   "metadata": {
    "colab": {
     "base_uri": "https://localhost:8080/",
     "height": 353
    },
    "id": "MAk1HwLhKtXW",
    "outputId": "c65d7f1f-f24c-4005-df68-251292315716"
   },
   "outputs": [
    {
     "data": {
      "text/plain": [
       "(array([3.86785e+05, 1.66370e+04, 8.09000e+02, 2.50000e+01, 1.00000e+01,\n",
       "        4.00000e+00, 1.00000e+00, 0.00000e+00, 0.00000e+00, 1.60000e+01]),\n",
       " array([  1. ,  24.6,  48.2,  71.8,  95.4, 119. , 142.6, 166.2, 189.8,\n",
       "        213.4, 237. ]),\n",
       " <a list of 10 Patch objects>)"
      ]
     },
     "execution_count": 20,
     "metadata": {
      "tags": []
     },
     "output_type": "execute_result"
    },
    {
     "data": {
      "image/png": "[encoded data removed]",
      "text/plain": [
       "<Figure size 432x288 with 1 Axes>"
      ]
     },
     "metadata": {
      "needs_background": "light",
      "tags": []
     },
     "output_type": "display_data"
    }
   ],
   "source": [
    "plt.hist(train_df['q2_word_length'])"
   ]
  },
  {
   "cell_type": "markdown",
   "metadata": {
    "id": "c_UgQt90K114"
   },
   "source": [
    "as we can see the length of sequnce contains about 40 to  50 word.\n",
    "and the sentance that has more than 50 word is to less so the Max_squnce_lenght will be 50"
   ]
  },
  {
   "cell_type": "code",
   "execution_count": null,
   "metadata": {
    "id": "eIMUvEhwK0Qq"
   },
   "outputs": [],
   "source": [
    "Max_sequnce_lenght=50"
   ]
  },
  {
   "cell_type": "code",
   "execution_count": null,
   "metadata": {
    "colab": {
     "base_uri": "https://localhost:8080/"
    },
    "id": "Yb-66jeALX29",
    "outputId": "5511eba1-d8e0-4615-a431-550e8677ad2b"
   },
   "outputs": [
    {
     "data": {
      "text/plain": [
       "0    255024\n",
       "1    149263\n",
       "Name: is_duplicate, dtype: int64"
      ]
     },
     "execution_count": 22,
     "metadata": {
      "tags": []
     },
     "output_type": "execute_result"
    }
   ],
   "source": [
    "train_df['is_duplicate'].value_counts()"
   ]
  },
  {
   "cell_type": "markdown",
   "metadata": {
    "id": "2w7flcD7LzxA"
   },
   "source": [
    "the data is not much skew"
   ]
  },
  {
   "cell_type": "markdown",
   "metadata": {
    "id": "iqMxnRtHMMNN"
   },
   "source": [
    "# Cleaning"
   ]
  },
  {
   "cell_type": "code",
   "execution_count": null,
   "metadata": {
    "id": "9SbvYHXALjSs"
   },
   "outputs": [],
   "source": [
    "import nltk\n",
    "#nltk.download('all')\n",
    "nltk.download('popular')"
   ]
  },
  {
   "cell_type": "code",
   "execution_count": null,
   "metadata": {
    "id": "7lOD7MakMSHc"
   },
   "outputs": [],
   "source": [
    "\n",
    "from nltk.corpus import stopwords\n",
    "\n",
    "STOPWORDS=set(stopwords.words('english'))\n",
    "lemmatizer=nltk.WordNetLemmatizer()\n",
    "stemmer=nltk.LancasterStemmer()"
   ]
  },
  {
   "cell_type": "code",
   "execution_count": null,
   "metadata": {
    "id": "eJfw4nnTN4vH"
   },
   "outputs": [],
   "source": [
    "train_df['q1_stop_word_count']=train_df['question1'].apply(lambda x: len([word for word in x.split() if word in STOPWORDS]))\n",
    "train_df['q2_stop_word_count']=train_df['question2'].apply(lambda x: len([word for word in x.split() if word in STOPWORDS]))"
   ]
  },
  {
   "cell_type": "code",
   "execution_count": null,
   "metadata": {
    "colab": {
     "base_uri": "https://localhost:8080/"
    },
    "id": "HKPxhjwlOQ_a",
    "outputId": "3b1dfebd-1cba-4968-8753-b652c4d26de4"
   },
   "outputs": [
    {
     "data": {
      "text/plain": [
       "count    404287.000000\n",
       "mean          4.041926\n",
       "std           2.682324\n",
       "min           0.000000\n",
       "25%           2.000000\n",
       "50%           3.000000\n",
       "75%           5.000000\n",
       "max          59.000000\n",
       "Name: q1_stop_word_count, dtype: float64"
      ]
     },
     "execution_count": 26,
     "metadata": {
      "tags": []
     },
     "output_type": "execute_result"
    }
   ],
   "source": [
    "train_df['q1_stop_word_count'].describe()"
   ]
  },
  {
   "cell_type": "code",
   "execution_count": null,
   "metadata": {
    "colab": {
     "base_uri": "https://localhost:8080/"
    },
    "id": "kk3BDBdqOVTu",
    "outputId": "a5517973-dc9f-4721-de10-ee7a1fdc078c"
   },
   "outputs": [
    {
     "data": {
      "text/plain": [
       "count    404287.000000\n",
       "mean          4.165135\n",
       "std           3.062305\n",
       "min           0.000000\n",
       "25%           2.000000\n",
       "50%           3.000000\n",
       "75%           5.000000\n",
       "max         115.000000\n",
       "Name: q2_stop_word_count, dtype: float64"
      ]
     },
     "execution_count": 27,
     "metadata": {
      "tags": []
     },
     "output_type": "execute_result"
    }
   ],
   "source": [
    "train_df['q2_stop_word_count'].describe()"
   ]
  },
  {
   "cell_type": "code",
   "execution_count": null,
   "metadata": {
    "colab": {
     "base_uri": "https://localhost:8080/",
     "height": 334
    },
    "id": "v2ZWU0-hOg0a",
    "outputId": "958d633c-a13d-4f08-d27a-75d0763344dc"
   },
   "outputs": [
    {
     "data": {
      "text/plain": [
       "(array([3.16307e+05, 7.99370e+04, 7.27900e+03, 6.14000e+02, 1.27000e+02,\n",
       "        1.70000e+01, 5.00000e+00, 0.00000e+00, 0.00000e+00, 1.00000e+00]),\n",
       " array([ 0. ,  5.9, 11.8, 17.7, 23.6, 29.5, 35.4, 41.3, 47.2, 53.1, 59. ]),\n",
       " <a list of 10 Patch objects>)"
      ]
     },
     "execution_count": 28,
     "metadata": {
      "tags": []
     },
     "output_type": "execute_result"
    },
    {
     "data": {
      "image/png": "[encoded data removed]",
      "text/plain": [
       "<Figure size 432x288 with 1 Axes>"
      ]
     },
     "metadata": {
      "needs_background": "light",
      "tags": []
     },
     "output_type": "display_data"
    }
   ],
   "source": [
    "plt.hist(train_df['q1_stop_word_count'])"
   ]
  },
  {
   "cell_type": "markdown",
   "metadata": {
    "id": "nBTqyuOUOkYn"
   },
   "source": [
    "we will remove stop word from the sentense "
   ]
  },
  {
   "cell_type": "markdown",
   "metadata": {
    "id": "Q77MMLz8RQwR"
   },
   "source": [
    "The clean function will remove stop word will do lemmatization and stemming for word also will remove each charecter that not in alphabit or digit"
   ]
  },
  {
   "cell_type": "code",
   "execution_count": null,
   "metadata": {
    "id": "1MrH7ye5PU-S"
   },
   "outputs": [],
   "source": [
    "def clean(data):\n",
    "  data=re.sub(r'[^a-zA-Z0-9,]',' ',data)\n",
    "  data=data.lower()\n",
    "  res=[word for word in data.split() if word not in STOPWORDS]\n",
    "  res=[stemmer.stem(word) for word in res]\n",
    "  res=[lemmatizer.lemmatize(word) for word in res]\n",
    "  return ' '.join(res)"
   ]
  },
  {
   "cell_type": "code",
   "execution_count": null,
   "metadata": {
    "id": "32CydFNNPxum"
   },
   "outputs": [],
   "source": [
    "train_df['clean_question1']=train_df['question1'].apply(clean)\n",
    "train_df['clean_question2']=train_df['question2'].apply(clean)"
   ]
  },
  {
   "cell_type": "code",
   "execution_count": null,
   "metadata": {
    "colab": {
     "base_uri": "https://localhost:8080/"
    },
    "id": "_RU0-gHmP6qg",
    "outputId": "ffe4d5f4-0fce-4bfc-936e-419e4dc4ae69"
   },
   "outputs": [
    {
     "name": "stdout",
     "output_type": "stream",
     "text": [
      "<class 'pandas.core.frame.DataFrame'>\n",
      "Int64Index: 404287 entries, 0 to 404289\n",
      "Data columns (total 12 columns):\n",
      " #   Column              Non-Null Count   Dtype \n",
      "---  ------              --------------   ----- \n",
      " 0   id                  404287 non-null  int64 \n",
      " 1   qid1                404287 non-null  int64 \n",
      " 2   qid2                404287 non-null  int64 \n",
      " 3   question1           404287 non-null  object\n",
      " 4   question2           404287 non-null  object\n",
      " 5   is_duplicate        404287 non-null  int64 \n",
      " 6   q1_word_length      404287 non-null  int64 \n",
      " 7   q2_word_length      404287 non-null  int64 \n",
      " 8   q1_stop_word_count  404287 non-null  int64 \n",
      " 9   q2_stop_word_count  404287 non-null  int64 \n",
      " 10  clean_question1     404287 non-null  object\n",
      " 11  clean_question2     404287 non-null  object\n",
      "dtypes: int64(8), object(4)\n",
      "memory usage: 40.1+ MB\n"
     ]
    }
   ],
   "source": [
    "train_df.info()"
   ]
  },
  {
   "cell_type": "code",
   "execution_count": null,
   "metadata": {
    "id": "6zLRZ3zJSr9Z"
   },
   "outputs": [],
   "source": [
    "train_df['word_count_1']=train_df['clean_question1'].apply(lambda x:len(x.split()))\n",
    "train_df['word_count_2']=train_df['clean_question2'].apply(lambda x:len(x.split()))"
   ]
  },
  {
   "cell_type": "markdown",
   "metadata": {
    "id": "OY-Y4nm0TbjD"
   },
   "source": [
    "we will see the number of word of clean text and if ther sentense that has zero word so we will drop it"
   ]
  },
  {
   "cell_type": "code",
   "execution_count": null,
   "metadata": {
    "id": "3lX5SV6vS8_m"
   },
   "outputs": [],
   "source": [
    "train_df=train_df[train_df['word_count_1']!=0]\n",
    "train_df=train_df[train_df['word_count_2']!=0]"
   ]
  },
  {
   "cell_type": "code",
   "execution_count": null,
   "metadata": {
    "colab": {
     "base_uri": "https://localhost:8080/"
    },
    "id": "FE8yEI81TBUu",
    "outputId": "4851c7fc-8078-4161-9db9-a5d8880d575a"
   },
   "outputs": [
    {
     "name": "stdout",
     "output_type": "stream",
     "text": [
      "<class 'pandas.core.frame.DataFrame'>\n",
      "Int64Index: 404148 entries, 0 to 404289\n",
      "Data columns (total 14 columns):\n",
      " #   Column              Non-Null Count   Dtype \n",
      "---  ------              --------------   ----- \n",
      " 0   id                  404148 non-null  int64 \n",
      " 1   qid1                404148 non-null  int64 \n",
      " 2   qid2                404148 non-null  int64 \n",
      " 3   question1           404148 non-null  object\n",
      " 4   question2           404148 non-null  object\n",
      " 5   is_duplicate        404148 non-null  int64 \n",
      " 6   q1_word_length      404148 non-null  int64 \n",
      " 7   q2_word_length      404148 non-null  int64 \n",
      " 8   q1_stop_word_count  404148 non-null  int64 \n",
      " 9   q2_stop_word_count  404148 non-null  int64 \n",
      " 10  clean_question1     404148 non-null  object\n",
      " 11  clean_question2     404148 non-null  object\n",
      " 12  word_count_1        404148 non-null  int64 \n",
      " 13  word_count_2        404148 non-null  int64 \n",
      "dtypes: int64(10), object(4)\n",
      "memory usage: 46.3+ MB\n"
     ]
    }
   ],
   "source": [
    "train_df.info()"
   ]
  },
  {
   "cell_type": "code",
   "execution_count": null,
   "metadata": {
    "colab": {
     "base_uri": "https://localhost:8080/"
    },
    "id": "XyI206YlTXRq",
    "outputId": "3d22ef12-ad8d-473c-8c5d-e5c399a8457b"
   },
   "outputs": [
    {
     "data": {
      "text/plain": [
       "count    404148.000000\n",
       "mean          5.552204\n",
       "std           3.042352\n",
       "min           1.000000\n",
       "25%           3.000000\n",
       "50%           5.000000\n",
       "75%           7.000000\n",
       "max          56.000000\n",
       "Name: word_count_1, dtype: float64"
      ]
     },
     "execution_count": 35,
     "metadata": {
      "tags": []
     },
     "output_type": "execute_result"
    }
   ],
   "source": [
    "train_df['word_count_1'].describe()"
   ]
  },
  {
   "cell_type": "markdown",
   "metadata": {
    "id": "Xp-NIilTTyxp"
   },
   "source": [
    "we will save this data frame,so we dont need to do clean operation each time"
   ]
  },
  {
   "cell_type": "code",
   "execution_count": null,
   "metadata": {
    "colab": {
     "base_uri": "https://localhost:8080/"
    },
    "id": "rh4QmPPNTr0K",
    "outputId": "75c604c9-bf0d-49d7-a916-f9ba51b50b68"
   },
   "outputs": [
    {
     "data": {
      "text/plain": [
       "Index(['id', 'qid1', 'qid2', 'question1', 'question2', 'is_duplicate',\n",
       "       'q1_word_length', 'q2_word_length', 'q1_stop_word_count',\n",
       "       'q2_stop_word_count', 'clean_question1', 'clean_question2',\n",
       "       'word_count_1', 'word_count_2'],\n",
       "      dtype='object')"
      ]
     },
     "execution_count": 36,
     "metadata": {
      "tags": []
     },
     "output_type": "execute_result"
    }
   ],
   "source": [
    "train_df.columns"
   ]
  },
  {
   "cell_type": "code",
   "execution_count": null,
   "metadata": {
    "id": "nf-WFECrUKjT"
   },
   "outputs": [],
   "source": [
    "train_df=train_df[['id','qid1','qid2','question1','question2','is_duplicate','clean_question1','clean_question2']]"
   ]
  },
  {
   "cell_type": "code",
   "execution_count": null,
   "metadata": {
    "id": "q-xwyfCvUlA4"
   },
   "outputs": [],
   "source": [
    "train_df.to_csv('/content/drive/MyDrive/Kaggle/Quora_pairs_question/clean_df.csv',index=False)"
   ]
  },
  {
   "cell_type": "markdown",
   "metadata": {
    "id": "0Xpa8_0CVWma"
   },
   "source": [
    "# Tokenizing The data"
   ]
  },
  {
   "cell_type": "code",
   "execution_count": null,
   "metadata": {
    "id": "GwyNCgdHXT-U"
   },
   "outputs": [],
   "source": [
    "train_df=pd.read_csv('/content/drive/MyDrive/Kaggle/Quora_pairs_question/clean_df.csv')"
   ]
  },
  {
   "cell_type": "code",
   "execution_count": null,
   "metadata": {
    "id": "6jkmLn82VTL7"
   },
   "outputs": [],
   "source": [
    "X_train,X_val=model_selection.train_test_split(train_df,test_size=0.1,stratify=train_df['is_duplicate'],random_state=42)\n",
    "# we use stratify paraemter to split data as the distrepution we have"
   ]
  },
  {
   "cell_type": "code",
   "execution_count": null,
   "metadata": {
    "id": "ZMAfnBjbVVYt"
   },
   "outputs": [],
   "source": [
    "y_train=X_train['is_duplicate'].values\n",
    "X_train_q1=X_train['clean_question1'].values\n",
    "X_train_q2=X_train['clean_question2'].values\n",
    "y_val=X_val['is_duplicate'].values\n",
    "X_val_q1=X_val['clean_question1'].values\n",
    "X_val_q2=X_val['clean_question2'].values"
   ]
  },
  {
   "cell_type": "code",
   "execution_count": null,
   "metadata": {
    "colab": {
     "base_uri": "https://localhost:8080/"
    },
    "id": "PtH1SUf2YuCR",
    "outputId": "4425375e-7e98-49b2-85ca-8ef328971e6a"
   },
   "outputs": [
    {
     "data": {
      "text/plain": [
       "((363732,), (40415,))"
      ]
     },
     "execution_count": 7,
     "metadata": {
      "tags": []
     },
     "output_type": "execute_result"
    }
   ],
   "source": [
    "y_train.shape,y_val.shape"
   ]
  },
  {
   "cell_type": "code",
   "execution_count": null,
   "metadata": {
    "id": "s3jyaP2DVVRy"
   },
   "outputs": [],
   "source": [
    "tokenizer=keras.preprocessing.text.Tokenizer()"
   ]
  },
  {
   "cell_type": "code",
   "execution_count": null,
   "metadata": {
    "id": "58ORGy5LX17L"
   },
   "outputs": [],
   "source": [
    "tokenizer.fit_on_texts(train_df['clean_question1'].values+train_df['clean_question2'].values)"
   ]
  },
  {
   "cell_type": "code",
   "execution_count": null,
   "metadata": {
    "colab": {
     "base_uri": "https://localhost:8080/"
    },
    "id": "sIM-vifSZYa0",
    "outputId": "dd483c5c-b1a0-46ca-b6d1-ba2d7b17f1cb"
   },
   "outputs": [
    {
     "data": {
      "text/plain": [
       "268166"
      ]
     },
     "execution_count": 44,
     "metadata": {
      "tags": []
     },
     "output_type": "execute_result"
    }
   ],
   "source": [
    "vocab_size=len(tokenizer.word_index)+1\n",
    "\n",
    "vocab_size"
   ]
  },
  {
   "cell_type": "markdown",
   "metadata": {
    "id": "LEZdIDR9e4VG"
   },
   "source": [
    "Save the Tokenizer for testing operation"
   ]
  },
  {
   "cell_type": "code",
   "execution_count": null,
   "metadata": {
    "id": "f7ghKI5beIvl"
   },
   "outputs": [],
   "source": [
    "import pickle\n",
    "\n",
    "with open('/content/drive/MyDrive/Kaggle/Quora_pairs_question/tokenizer.pickle', 'wb') as handle:\n",
    "    pickle.dump(tokenizer, handle, protocol=pickle.HIGHEST_PROTOCOL)\n"
   ]
  },
  {
   "cell_type": "code",
   "execution_count": null,
   "metadata": {
    "id": "PbaEeNm9EtBx"
   },
   "outputs": [],
   "source": [
    "import pickle\n",
    "with open('/content/drive/MyDrive/Kaggle/Quora_pairs_question/tokenizer.pickle', 'rb') as handle:\n",
    "    tokenizer = pickle.load(handle)\n"
   ]
  },
  {
   "cell_type": "code",
   "execution_count": null,
   "metadata": {
    "id": "poL9vS6QSOEq"
   },
   "outputs": [],
   "source": [
    "vocab_size=len(tokenizer.word_index)+1"
   ]
  },
  {
   "cell_type": "code",
   "execution_count": null,
   "metadata": {
    "id": "oPkqsmeIdDu9"
   },
   "outputs": [],
   "source": [
    "Max_sequnce_lenght=50"
   ]
  },
  {
   "cell_type": "code",
   "execution_count": null,
   "metadata": {
    "colab": {
     "base_uri": "https://localhost:8080/"
    },
    "id": "hfjZnSE3cM_I",
    "outputId": "0fa7e85e-a5e5-4251-8b65-ab958fcea15b"
   },
   "outputs": [
    {
     "data": {
      "text/plain": [
       "((363732, 50), (363732, 50), (40415, 50), (40415, 50))"
      ]
     },
     "execution_count": 11,
     "metadata": {
      "tags": []
     },
     "output_type": "execute_result"
    }
   ],
   "source": [
    "X_train_q1=tokenizer.texts_to_sequences(X_train_q1)\n",
    "X_train_q2=tokenizer.texts_to_sequences(X_train_q2)\n",
    "X_val_q1=tokenizer.texts_to_sequences(X_val_q1)\n",
    "X_val_q2=tokenizer.texts_to_sequences(X_val_q2)\n",
    "\n",
    "X_train_q1_set=keras.preprocessing.sequence.pad_sequences(X_train_q1,padding='post',maxlen=Max_sequnce_lenght)\n",
    "X_train_q2_set=keras.preprocessing.sequence.pad_sequences(X_train_q2,padding='post',maxlen=Max_sequnce_lenght)\n",
    "X_val_q1_set=keras.preprocessing.sequence.pad_sequences(X_val_q1,padding='post',maxlen=Max_sequnce_lenght)\n",
    "X_val_q2_set=keras.preprocessing.sequence.pad_sequences(X_val_q2,padding='post',maxlen=Max_sequnce_lenght)\n",
    "\n",
    "X_train_q2_set.shape,X_train_q1_set.shape,X_val_q1_set.shape,X_val_q2_set.shape"
   ]
  },
  {
   "cell_type": "code",
   "execution_count": null,
   "metadata": {
    "id": "2DidqBxHZYRU"
   },
   "outputs": [],
   "source": [
    "y_train=y_train.astype(np.uint8)\n",
    "y_val=y_val.astype(np.uint8)"
   ]
  },
  {
   "cell_type": "markdown",
   "metadata": {
    "id": "B9WwsS4_U817"
   },
   "source": [
    "# Embedding"
   ]
  },
  {
   "cell_type": "code",
   "execution_count": null,
   "metadata": {
    "colab": {
     "base_uri": "https://localhost:8080/"
    },
    "id": "Tdws_iDDUm2u",
    "outputId": "cabce11f-6f1b-40dd-cbce-6b91557d8471"
   },
   "outputs": [
    {
     "name": "stdout",
     "output_type": "stream",
     "text": [
      "Archive:  /content/drive/MyDrive/glove.6B.zip\n",
      "  inflating: glove.6B.50d.txt        \n",
      "  inflating: glove.6B.100d.txt       \n",
      "  inflating: glove.6B.200d.txt       \n",
      "  inflating: glove.6B.300d.txt       \n"
     ]
    }
   ],
   "source": [
    "!unzip /content/drive/MyDrive/glove.6B.zip"
   ]
  },
  {
   "cell_type": "code",
   "execution_count": null,
   "metadata": {
    "colab": {
     "base_uri": "https://localhost:8080/"
    },
    "id": "XpGhaIfQVGlu",
    "outputId": "4c9ca6b3-abaa-4fb4-cd2a-60261db371f4"
   },
   "outputs": [
    {
     "name": "stdout",
     "output_type": "stream",
     "text": [
      "Found 400000 word vector\n"
     ]
    }
   ],
   "source": [
    "embading_index={}\n",
    "path = '/content/glove.6B.300d.txt'\n",
    "with open(path) as f:\n",
    "  for line in f:\n",
    "    key,value=line.split(maxsplit=1)\n",
    "    value=np.fromstring(value,\"f\",sep=\" \")\n",
    "    embading_index[key]=value\n",
    "\n",
    "print(\"Found {} word vector\".format(len(embading_index)))\n",
    "\n",
    "embading_dim=300\n",
    "num_tokens=vocab_size\n",
    "\n",
    "embading_matrix=np.zeros((num_tokens,embading_dim))\n",
    "for word,value in tokenizer.word_index.items():\n",
    "  embading_vector=embading_index.get(word)\n",
    "  if embading_vector is not None:\n",
    "      embading_matrix[value]=embading_vector\n",
    "\n"
   ]
  },
  {
   "cell_type": "code",
   "execution_count": null,
   "metadata": {
    "id": "Zfu2-FQyV42_"
   },
   "outputs": [],
   "source": [
    "X_train_set=tf.data.Dataset.from_tensor_slices(((X_train_q1_set,X_train_q2_set),y_train)).batch(1024).prefetch(8)\n",
    "X_val_set=tf.data.Dataset.from_tensor_slices(((X_val_q1_set,X_val_q2_set),y_val)).batch(1024).prefetch(8)"
   ]
  },
  {
   "cell_type": "markdown",
   "metadata": {
    "id": "6GLtzlbxikEB"
   },
   "source": [
    "# Creat Model"
   ]
  },
  {
   "cell_type": "code",
   "execution_count": null,
   "metadata": {
    "id": "lyeGX2vNfmvy"
   },
   "outputs": [],
   "source": [
    "emb_layer=keras.layers.Embedding(input_dim=vocab_size,\n",
    "                                 output_dim=embading_dim,\n",
    "                                 embeddings_initializer=keras.initializers.Constant(embading_matrix),\n",
    "                                 input_length=Max_sequnce_lenght,\n",
    "                                 trainable=True,\n",
    "                                 mask_zero=True)"
   ]
  },
  {
   "cell_type": "code",
   "execution_count": null,
   "metadata": {
    "colab": {
     "base_uri": "https://localhost:8080/"
    },
    "id": "s8yeJ_3ggezr",
    "outputId": "a13fa2c6-dede-47a7-ada9-a12f0a22b830"
   },
   "outputs": [
    {
     "name": "stdout",
     "output_type": "stream",
     "text": [
      "Model: \"model\"\n",
      "__________________________________________________________________________________________________\n",
      "Layer (type)                    Output Shape         Param #     Connected to                     \n",
      "==================================================================================================\n",
      "input_1 (InputLayer)            [(None, 50)]         0                                            \n",
      "__________________________________________________________________________________________________\n",
      "input_2 (InputLayer)            [(None, 50)]         0                                            \n",
      "__________________________________________________________________________________________________\n",
      "embedding (Embedding)           (None, 50, 300)      80449800    input_1[0][0]                    \n",
      "                                                                 input_2[0][0]                    \n",
      "__________________________________________________________________________________________________\n",
      "bidirectional (Bidirectional)   (None, 50, 256)      330240      embedding[0][0]                  \n",
      "__________________________________________________________________________________________________\n",
      "bidirectional_1 (Bidirectional) (None, 50, 256)      330240      embedding[1][0]                  \n",
      "__________________________________________________________________________________________________\n",
      "gru_1 (GRU)                     (None, 128)          148224      bidirectional[0][0]              \n",
      "__________________________________________________________________________________________________\n",
      "gru_3 (GRU)                     (None, 128)          148224      bidirectional_1[0][0]            \n",
      "__________________________________________________________________________________________________\n",
      "dropout (Dropout)               (None, 128)          0           gru_1[0][0]                      \n",
      "__________________________________________________________________________________________________\n",
      "dropout_1 (Dropout)             (None, 128)          0           gru_3[0][0]                      \n",
      "__________________________________________________________________________________________________\n",
      "concatenate (Concatenate)       (None, 256)          0           dropout[0][0]                    \n",
      "                                                                 dropout_1[0][0]                  \n",
      "__________________________________________________________________________________________________\n",
      "dense (Dense)                   (None, 32)           8224        concatenate[0][0]                \n",
      "__________________________________________________________________________________________________\n",
      "dropout_2 (Dropout)             (None, 32)           0           dense[0][0]                      \n",
      "__________________________________________________________________________________________________\n",
      "dense_1 (Dense)                 (None, 1)            33          dropout_2[0][0]                  \n",
      "==================================================================================================\n",
      "Total params: 81,414,985\n",
      "Trainable params: 81,414,985\n",
      "Non-trainable params: 0\n",
      "__________________________________________________________________________________________________\n"
     ]
    }
   ],
   "source": [
    "keras.backend.clear_session()\n",
    "#First Question input\n",
    "input_1=keras.layers.Input(shape=(Max_sequnce_lenght,))\n",
    "#Second Question input\n",
    "input_2=keras.layers.Input(shape=(Max_sequnce_lenght,))\n",
    "\n",
    "#Embedding First Question \n",
    "emb_1=emb_layer(input_1)\n",
    "\n",
    "#Embedding Second Question\n",
    "emb_2=emb_layer(input_2)\n",
    "\n",
    "#Fiture Extraction for first question\n",
    "X_1=keras.layers.Bidirectional(keras.layers.GRU(128,return_sequences=True))(emb_1)\n",
    "X_1=keras.layers.GRU(128)(X_1)\n",
    "X_1=keras.layers.Dropout(0.2)(X_1)\n",
    "\n",
    "\n",
    "#Fiture Extraction for second question\n",
    "X_2=keras.layers.Bidirectional(keras.layers.GRU(128,return_sequences=True))(emb_2)\n",
    "X_2=keras.layers.GRU(128)(X_2)\n",
    "X_2=keras.layers.Dropout(0.2)(X_2)\n",
    "\n",
    "con=keras.layers.concatenate([X_1,X_2])\n",
    "con=keras.layers.Dense(32,activation='relu')(con)\n",
    "con=keras.layers.Dropout(0.2)(con)\n",
    "\n",
    "output=keras.layers.Dense(1,activation='sigmoid')(con)\n",
    "\n",
    "model=keras.Model(inputs=[input_1,input_2],outputs=[output])\n",
    "model.summary()"
   ]
  },
  {
   "cell_type": "code",
   "execution_count": null,
   "metadata": {
    "id": "nfHXA5b4sa-j"
   },
   "outputs": [],
   "source": [
    "model.compile(loss='binary_crossentropy',optimizer='adam',metrics=['acc'])"
   ]
  },
  {
   "cell_type": "code",
   "execution_count": null,
   "metadata": {
    "id": "z887WfW-rl2U"
   },
   "outputs": [],
   "source": [
    "# this Function is for learning rate schedule \n",
    "# so the learning rate change depending of the val_loss\n",
    "# this function is get better result than ReduceLROnPlateau function that come with keras\n",
    "\n",
    "LR_START = 0.0000001\n",
    "LR_MIN = 0.000001\n",
    "LR_MAX = 0.0008\n",
    "LR_RAMPUP_EPOCHS = 3\n",
    "LR_SUSTAIN_EPOCHS = 0\n",
    "LR_EXP_DECAY = .8\n",
    "\n",
    "def lr_schedule(epoch):\n",
    "    if epoch < LR_RAMPUP_EPOCHS:\n",
    "        lr = (LR_MAX - LR_START) / LR_RAMPUP_EPOCHS * epoch + LR_START\n",
    "    elif epoch < LR_RAMPUP_EPOCHS + LR_SUSTAIN_EPOCHS:\n",
    "        lr = LR_MAX\n",
    "    else:\n",
    "        lr = (LR_MAX - LR_MIN) * LR_EXP_DECAY**(epoch - LR_RAMPUP_EPOCHS - LR_SUSTAIN_EPOCHS) + LR_MIN\n",
    "    return lr\n"
   ]
  },
  {
   "cell_type": "code",
   "execution_count": null,
   "metadata": {
    "id": "AfR5Z98bpXKO"
   },
   "outputs": [],
   "source": [
    "erlay_stop=keras.callbacks.EarlyStopping(patience=3,monitor='val_loss')\n",
    "check_point=keras.callbacks.ModelCheckpoint('/content/drive/MyDrive/Kaggle/Quora_pairs_question/model.h5',save_best_only=True)\n",
    "lr_scheduler=keras.callbacks.LearningRateScheduler(lr_schedule)\n",
    "callbacks_list=[erlay_stop,check_point,lr_scheduler]"
   ]
  },
  {
   "cell_type": "code",
   "execution_count": null,
   "metadata": {
    "colab": {
     "base_uri": "https://localhost:8080/",
     "height": 35
    },
    "id": "17D4x3TXI-lR",
    "outputId": "27e261b8-6c91-478f-9dcf-0572a5b57742"
   },
   "outputs": [
    {
     "data": {
      "application/vnd.google.colaboratory.intrinsic+json": {
       "type": "string"
      },
      "text/plain": [
       "'/device:GPU:0'"
      ]
     },
     "execution_count": 29,
     "metadata": {
      "tags": []
     },
     "output_type": "execute_result"
    }
   ],
   "source": [
    "tf.test.gpu_device_name()"
   ]
  },
  {
   "cell_type": "code",
   "execution_count": null,
   "metadata": {
    "colab": {
     "base_uri": "https://localhost:8080/"
    },
    "id": "Ypy-2TTKr8_h",
    "outputId": "c19198f5-8d88-4df4-c4b6-60512ba9cafa"
   },
   "outputs": [
    {
     "name": "stdout",
     "output_type": "stream",
     "text": [
      "Epoch 1/20\n",
      "711/711 [==============================] - 619s 838ms/step - loss: 0.7062 - acc: 0.4547 - val_loss: 0.7002 - val_acc: 0.4675\n",
      "Epoch 2/20\n",
      "711/711 [==============================] - 605s 851ms/step - loss: 0.5831 - acc: 0.6908 - val_loss: 0.4957 - val_acc: 0.7577\n",
      "Epoch 3/20\n",
      "711/711 [==============================] - 618s 869ms/step - loss: 0.4883 - acc: 0.7625 - val_loss: 0.4633 - val_acc: 0.7771\n",
      "Epoch 4/20\n",
      "711/711 [==============================] - 619s 871ms/step - loss: 0.4427 - acc: 0.7884 - val_loss: 0.4546 - val_acc: 0.7862\n",
      "Epoch 5/20\n",
      "711/711 [==============================] - 627s 881ms/step - loss: 0.3902 - acc: 0.8157 - val_loss: 0.4587 - val_acc: 0.7933\n",
      "Epoch 6/20\n",
      "711/711 [==============================] - 608s 856ms/step - loss: 0.3488 - acc: 0.8365 - val_loss: 0.4675 - val_acc: 0.7987\n",
      "Epoch 7/20\n",
      "711/711 [==============================] - 607s 854ms/step - loss: 0.3165 - acc: 0.8527 - val_loss: 0.4969 - val_acc: 0.8000\n"
     ]
    }
   ],
   "source": [
    "with tf.device('/device:GPU:0'):\n",
    "  history=model.fit(X_train_set,validation_data=(X_val_set),epochs=20,callbacks=callbacks_list)"
   ]
  },
  {
   "cell_type": "code",
   "execution_count": null,
   "metadata": {
    "colab": {
     "base_uri": "https://localhost:8080/",
     "height": 282
    },
    "id": "S4kBvNYAsW5B",
    "outputId": "2b893f23-f39b-4d59-f161-6f9c143ef2ec"
   },
   "outputs": [
    {
     "data": {
      "text/plain": [
       "[<matplotlib.lines.Line2D at 0x7fef53fa3080>]"
      ]
     },
     "execution_count": 32,
     "metadata": {
      "tags": []
     },
     "output_type": "execute_result"
    },
    {
     "data": {
      "image/png": "[encoded data removed]",
      "text/plain": [
       "<Figure size 432x288 with 1 Axes>"
      ]
     },
     "metadata": {
      "needs_background": "light",
      "tags": []
     },
     "output_type": "display_data"
    }
   ],
   "source": [
    "train_acc=history.history['acc']\n",
    "val_acc=history.history['val_acc']\n",
    "train_loss=history.history['loss']\n",
    "val_loss=history.history['val_loss']\n",
    "y=range(7)\n",
    "plt.plot(y,train_acc)\n",
    "plt.plot(y,val_acc)"
   ]
  },
  {
   "cell_type": "code",
   "execution_count": null,
   "metadata": {
    "colab": {
     "base_uri": "https://localhost:8080/",
     "height": 282
    },
    "id": "rnfhLYS7pkuf",
    "outputId": "a691a486-171c-43fc-a0c7-0e4dd7052a85"
   },
   "outputs": [
    {
     "data": {
      "text/plain": [
       "[<matplotlib.lines.Line2D at 0x7fef54031ef0>]"
      ]
     },
     "execution_count": 31,
     "metadata": {
      "tags": []
     },
     "output_type": "execute_result"
    },
    {
     "data": {
      "image/png": "[encoded data removed]",
      "text/plain": [
       "<Figure size 432x288 with 1 Axes>"
      ]
     },
     "metadata": {
      "needs_background": "light",
      "tags": []
     },
     "output_type": "display_data"
    }
   ],
   "source": [
    "plt.plot(y,train_loss)\n",
    "plt.plot(y,val_loss)"
   ]
  },
  {
   "cell_type": "markdown",
   "metadata": {
    "id": "T-sgN_nE5Ea0"
   },
   "source": [
    "# Creat model_2"
   ]
  },
  {
   "cell_type": "code",
   "execution_count": null,
   "metadata": {
    "id": "keYrYiYu5Ljd"
   },
   "outputs": [],
   "source": [
    "emb_layer=keras.layers.Embedding(input_dim=vocab_size,\n",
    "                                 output_dim=embading_dim,\n",
    "                                 embeddings_initializer=keras.initializers.Constant(embading_matrix),\n",
    "                                 input_length=Max_sequnce_lenght,\n",
    "                                 trainable=True,\n",
    "                                 mask_zero=True)"
   ]
  },
  {
   "cell_type": "code",
   "execution_count": null,
   "metadata": {
    "colab": {
     "base_uri": "https://localhost:8080/"
    },
    "id": "OrwpBy0F5Lgf",
    "outputId": "4b10d0a3-7262-40c5-9f64-b24bfe5662ff"
   },
   "outputs": [
    {
     "name": "stdout",
     "output_type": "stream",
     "text": [
      "Model: \"model\"\n",
      "__________________________________________________________________________________________________\n",
      "Layer (type)                    Output Shape         Param #     Connected to                     \n",
      "==================================================================================================\n",
      "input_1 (InputLayer)            [(None, 50)]         0                                            \n",
      "__________________________________________________________________________________________________\n",
      "input_2 (InputLayer)            [(None, 50)]         0                                            \n",
      "__________________________________________________________________________________________________\n",
      "embedding (Embedding)           (None, 50, 300)      80449800    input_1[0][0]                    \n",
      "                                                                 input_2[0][0]                    \n",
      "__________________________________________________________________________________________________\n",
      "bidirectional (Bidirectional)   (None, 50, 256)      330240      embedding[2][0]                  \n",
      "__________________________________________________________________________________________________\n",
      "bidirectional_1 (Bidirectional) (None, 50, 256)      330240      embedding[3][0]                  \n",
      "__________________________________________________________________________________________________\n",
      "dropout (Dropout)               (None, 50, 256)      0           bidirectional[0][0]              \n",
      "__________________________________________________________________________________________________\n",
      "dropout_1 (Dropout)             (None, 50, 256)      0           bidirectional_1[0][0]            \n",
      "__________________________________________________________________________________________________\n",
      "concatenate (Concatenate)       (None, 50, 512)      0           dropout[0][0]                    \n",
      "                                                                 dropout_1[0][0]                  \n",
      "__________________________________________________________________________________________________\n",
      "bidirectional_2 (Bidirectional) (None, 256)          493056      concatenate[0][0]                \n",
      "__________________________________________________________________________________________________\n",
      "dropout_2 (Dropout)             (None, 256)          0           bidirectional_2[0][0]            \n",
      "__________________________________________________________________________________________________\n",
      "dense (Dense)                   (None, 1)            257         dropout_2[0][0]                  \n",
      "==================================================================================================\n",
      "Total params: 81,603,593\n",
      "Trainable params: 81,603,593\n",
      "Non-trainable params: 0\n",
      "__________________________________________________________________________________________________\n"
     ]
    }
   ],
   "source": [
    "keras.backend.clear_session()\n",
    "#First Question input\n",
    "input_1=keras.layers.Input(shape=(Max_sequnce_lenght,))\n",
    "#Second Question input\n",
    "input_2=keras.layers.Input(shape=(Max_sequnce_lenght,))\n",
    "\n",
    "#Embedding First Question \n",
    "emb_1=emb_layer(input_1)\n",
    "\n",
    "#Embedding Second Question\n",
    "emb_2=emb_layer(input_2)\n",
    "\n",
    "#Fiture Extraction for first question\n",
    "X_1=keras.layers.Bidirectional(keras.layers.GRU(128,return_sequences=True))(emb_1)\n",
    "X_1=keras.layers.Dropout(0.2)(X_1)\n",
    "\n",
    "\n",
    "#Fiture Extraction for second question\n",
    "X_2=keras.layers.Bidirectional(keras.layers.GRU(128,return_sequences=True))(emb_2)\n",
    "X_2=keras.layers.Dropout(0.2)(X_2)\n",
    "\n",
    "con=keras.layers.concatenate([X_1,X_2])\n",
    "con=keras.layers.Bidirectional(keras.layers.GRU(128))(con)\n",
    "con=keras.layers.Dropout(0.2)(con)\n",
    "\n",
    "output=keras.layers.Dense(1,activation='sigmoid')(con)\n",
    "\n",
    "model=keras.Model(inputs=[input_1,input_2],outputs=[output])\n",
    "model.summary()"
   ]
  },
  {
   "cell_type": "code",
   "execution_count": null,
   "metadata": {
    "id": "Xa56V4935LZT"
   },
   "outputs": [],
   "source": [
    "# this Function is for learning rate schedule \n",
    "# so the learning rate change depending of the val_loss\n",
    "# this function is get better result than ReduceLROnPlateau function that come with keras\n",
    "\n",
    "LR_START = 0.0000001\n",
    "LR_MIN = 0.000001\n",
    "LR_MAX = 0.0008\n",
    "LR_RAMPUP_EPOCHS = 3\n",
    "LR_SUSTAIN_EPOCHS = 0\n",
    "LR_EXP_DECAY = .8\n",
    "\n",
    "def lr_schedule(epoch):\n",
    "    if epoch < LR_RAMPUP_EPOCHS:\n",
    "        lr = (LR_MAX - LR_START) / LR_RAMPUP_EPOCHS * epoch + LR_START\n",
    "    elif epoch < LR_RAMPUP_EPOCHS + LR_SUSTAIN_EPOCHS:\n",
    "        lr = LR_MAX\n",
    "    else:\n",
    "        lr = (LR_MAX - LR_MIN) * LR_EXP_DECAY**(epoch - LR_RAMPUP_EPOCHS - LR_SUSTAIN_EPOCHS) + LR_MIN\n",
    "    return lr\n"
   ]
  },
  {
   "cell_type": "code",
   "execution_count": null,
   "metadata": {
    "id": "Qy96mBWT6INa"
   },
   "outputs": [],
   "source": [
    "erlay_stop=keras.callbacks.EarlyStopping(patience=3,monitor='val_loss')\n",
    "check_point=keras.callbacks.ModelCheckpoint('/content/drive/MyDrive/Kaggle/Quora_pairs_question/model_2.h5',save_best_only=True,save_weights_only=True)\n",
    "lr_scheduler=keras.callbacks.LearningRateScheduler(lr_schedule)\n",
    "callbacks_list=[erlay_stop,check_point,lr_scheduler]"
   ]
  },
  {
   "cell_type": "code",
   "execution_count": null,
   "metadata": {
    "id": "kzPlMnKx6IKQ"
   },
   "outputs": [],
   "source": [
    "model.compile(loss='binary_crossentropy',optimizer=keras.optimizers.RMSprop(0.0001),metrics=['accuracy'])"
   ]
  },
  {
   "cell_type": "code",
   "execution_count": null,
   "metadata": {
    "colab": {
     "base_uri": "https://localhost:8080/"
    },
    "id": "PRI3ZlqU6IBd",
    "outputId": "c99bae3c-fa9f-473a-8d67-ac90dae3ce2b"
   },
   "outputs": [
    {
     "name": "stdout",
     "output_type": "stream",
     "text": [
      "Epoch 1/20\n",
      "356/356 [==============================] - 208s 525ms/step - loss: 0.7173 - accuracy: 0.4490 - val_loss: 0.7127 - val_accuracy: 0.4482\n",
      "Epoch 2/20\n",
      "356/356 [==============================] - 177s 495ms/step - loss: 0.5942 - accuracy: 0.6808 - val_loss: 0.5209 - val_accuracy: 0.7402\n",
      "Epoch 3/20\n",
      "356/356 [==============================] - 176s 492ms/step - loss: 0.5141 - accuracy: 0.7444 - val_loss: 0.4921 - val_accuracy: 0.7578\n",
      "Epoch 4/20\n",
      "356/356 [==============================] - 174s 488ms/step - loss: 0.4758 - accuracy: 0.7683 - val_loss: 0.4683 - val_accuracy: 0.7724\n",
      "Epoch 5/20\n",
      "356/356 [==============================] - 173s 486ms/step - loss: 0.4344 - accuracy: 0.7935 - val_loss: 0.4604 - val_accuracy: 0.7796\n",
      "Epoch 6/20\n",
      "356/356 [==============================] - 173s 485ms/step - loss: 0.4016 - accuracy: 0.8137 - val_loss: 0.4539 - val_accuracy: 0.7863\n",
      "Epoch 7/20\n",
      "356/356 [==============================] - 173s 483ms/step - loss: 0.3756 - accuracy: 0.8276 - val_loss: 0.4484 - val_accuracy: 0.7933\n",
      "Epoch 8/20\n",
      "356/356 [==============================] - 171s 478ms/step - loss: 0.3537 - accuracy: 0.8399 - val_loss: 0.4507 - val_accuracy: 0.7980\n",
      "Epoch 9/20\n",
      "356/356 [==============================] - 170s 476ms/step - loss: 0.3361 - accuracy: 0.8495 - val_loss: 0.4534 - val_accuracy: 0.8000\n",
      "Epoch 10/20\n",
      "356/356 [==============================] - 169s 474ms/step - loss: 0.3219 - accuracy: 0.8565 - val_loss: 0.4579 - val_accuracy: 0.8022\n"
     ]
    }
   ],
   "source": [
    "with tf.device('/device:GPU:0'):\n",
    "  history=model.fit(X_train_set,epochs=20,validation_data=(X_val_set),callbacks=callbacks_list)"
   ]
  },
  {
   "cell_type": "code",
   "execution_count": null,
   "metadata": {
    "id": "99EqxFbQ-c8X"
   },
   "outputs": [],
   "source": [
    "json_model=model.to_json()\n",
    "with open('/content/drive/MyDrive/Kaggle/Quora_pairs_question/json_model.json','w') as f:\n",
    "  f.write(json_model)"
   ]
  },
  {
   "cell_type": "code",
   "execution_count": null,
   "metadata": {
    "id": "nEev5V06-cgU"
   },
   "outputs": [],
   "source": [
    "acc=history.history['accuracy']\n",
    "loss_acc=history.history['loss']\n",
    "val_acc=history.history['val_accuracy']\n",
    "val_loss=history.history['val_loss']\n",
    "y=range(len(acc))"
   ]
  },
  {
   "cell_type": "code",
   "execution_count": null,
   "metadata": {
    "colab": {
     "base_uri": "https://localhost:8080/",
     "height": 282
    },
    "id": "QhCO_KT3Crh2",
    "outputId": "74c77158-373c-4a50-f813-f955022f9fa8"
   },
   "outputs": [
    {
     "data": {
      "text/plain": [
       "[<matplotlib.lines.Line2D at 0x7fd04de54dd8>]"
      ]
     },
     "execution_count": 30,
     "metadata": {
      "tags": []
     },
     "output_type": "execute_result"
    },
    {
     "data": {
      "image/png": "[encoded data removed]",
      "text/plain": [
       "<Figure size 432x288 with 1 Axes>"
      ]
     },
     "metadata": {
      "needs_background": "light",
      "tags": []
     },
     "output_type": "display_data"
    }
   ],
   "source": [
    "plt.plot(y,acc)\n",
    "plt.plot(y,val_acc)"
   ]
  },
  {
   "cell_type": "code",
   "execution_count": null,
   "metadata": {
    "colab": {
     "base_uri": "https://localhost:8080/",
     "height": 282
    },
    "id": "VO9vtxiPDARj",
    "outputId": "9581107f-fa07-4051-a6cd-18749a26de72"
   },
   "outputs": [
    {
     "data": {
      "text/plain": [
       "[<matplotlib.lines.Line2D at 0x7fd04d722eb8>]"
      ]
     },
     "execution_count": 31,
     "metadata": {
      "tags": []
     },
     "output_type": "execute_result"
    },
    {
     "data": {
      "image/png": "[encoded data removed]",
      "text/plain": [
       "<Figure size 432x288 with 1 Axes>"
      ]
     },
     "metadata": {
      "needs_background": "light",
      "tags": []
     },
     "output_type": "display_data"
    }
   ],
   "source": [
    "plt.plot(y,loss_acc)\n",
    "plt.plot(y,val_loss)"
   ]
  },
  {
   "cell_type": "markdown",
   "metadata": {
    "id": "nc8Sm-rtDR4v"
   },
   "source": [
    "# Training_without_remove_STOPWORD"
   ]
  },
  {
   "cell_type": "code",
   "execution_count": null,
   "metadata": {
    "id": "RSf79NodDQww"
   },
   "outputs": [],
   "source": [
    "import nltk\n",
    "#nltk.download('all')\n",
    "nltk.download('popular')"
   ]
  },
  {
   "cell_type": "code",
   "execution_count": null,
   "metadata": {
    "id": "rzqsVojjDq8J"
   },
   "outputs": [],
   "source": [
    "\n",
    "import nltk\n",
    "nltk.download('popular')\n",
    "lemmatizer=nltk.WordNetLemmatizer()\n",
    "stemmer=nltk.LancasterStemmer()"
   ]
  },
  {
   "cell_type": "code",
   "execution_count": null,
   "metadata": {
    "id": "aER0U_RzDvde"
   },
   "outputs": [],
   "source": [
    "def clean(data):\n",
    "  data=re.sub(r'[^a-zA-Z0-9,]',' ',data)\n",
    "  data=data.lower()\n",
    "  #res=[word for word in data.split() if word not in STOPWORDS]\n",
    "  res=[stemmer.stem(word) for word in data.split()]\n",
    "  res=[lemmatizer.lemmatize(word) for word in res]\n",
    "  return ' '.join(res)"
   ]
  },
  {
   "cell_type": "code",
   "execution_count": null,
   "metadata": {
    "id": "Tz6gDO5tDzIk"
   },
   "outputs": [],
   "source": [
    "train_df=pd.read_csv('/content/drive/MyDrive/Kaggle/Quora_pairs_question/train.csv.zip')"
   ]
  },
  {
   "cell_type": "code",
   "execution_count": null,
   "metadata": {
    "id": "fwDj_lnYEHfC"
   },
   "outputs": [],
   "source": [
    "train_df.dropna(inplace=True)"
   ]
  },
  {
   "cell_type": "code",
   "execution_count": null,
   "metadata": {
    "id": "X3rTT013ELuX"
   },
   "outputs": [],
   "source": [
    "train_df['clean_question1']=train_df['question1'].apply(clean)\n",
    "train_df['clean_question2']=train_df['question2'].apply(clean)"
   ]
  },
  {
   "cell_type": "code",
   "execution_count": null,
   "metadata": {
    "id": "P4jOzBtgIwIc"
   },
   "outputs": [],
   "source": [
    "train_df['word_1']=train_df['clean_question1'].apply(lambda x:len(x.split()))\n",
    "train_df['word_2']=train_df['clean_question2'].apply(lambda x:len(x.split()))"
   ]
  },
  {
   "cell_type": "code",
   "execution_count": null,
   "metadata": {
    "colab": {
     "base_uri": "https://localhost:8080/"
    },
    "id": "TTVSmf5CJFLO",
    "outputId": "a1c61899-9d72-4a0b-8b21-7e09c8db26ab"
   },
   "outputs": [
    {
     "name": "stdout",
     "output_type": "stream",
     "text": [
      "<class 'pandas.core.frame.DataFrame'>\n",
      "Int64Index: 404287 entries, 0 to 404289\n",
      "Data columns (total 10 columns):\n",
      " #   Column           Non-Null Count   Dtype \n",
      "---  ------           --------------   ----- \n",
      " 0   id               404287 non-null  int64 \n",
      " 1   qid1             404287 non-null  int64 \n",
      " 2   qid2             404287 non-null  int64 \n",
      " 3   question1        404287 non-null  object\n",
      " 4   question2        404287 non-null  object\n",
      " 5   is_duplicate     404287 non-null  int64 \n",
      " 6   clean_question1  404287 non-null  object\n",
      " 7   clean_question2  404287 non-null  object\n",
      " 8   word_1           404287 non-null  int64 \n",
      " 9   word_2           404287 non-null  int64 \n",
      "dtypes: int64(6), object(4)\n",
      "memory usage: 33.9+ MB\n"
     ]
    }
   ],
   "source": [
    "train_df.info()"
   ]
  },
  {
   "cell_type": "code",
   "execution_count": null,
   "metadata": {
    "id": "QSZHFWG_I6qW"
   },
   "outputs": [],
   "source": [
    "train_df=train_df[train_df['word_1']!=0]\n",
    "train_df=train_df[train_df['word_2']!=0]"
   ]
  },
  {
   "cell_type": "code",
   "execution_count": null,
   "metadata": {
    "colab": {
     "base_uri": "https://localhost:8080/"
    },
    "id": "cU8i4sgNJIej",
    "outputId": "439d893e-465c-4801-92ba-0d93013dbc74"
   },
   "outputs": [
    {
     "name": "stdout",
     "output_type": "stream",
     "text": [
      "<class 'pandas.core.frame.DataFrame'>\n",
      "Int64Index: 404266 entries, 0 to 404289\n",
      "Data columns (total 10 columns):\n",
      " #   Column           Non-Null Count   Dtype \n",
      "---  ------           --------------   ----- \n",
      " 0   id               404266 non-null  int64 \n",
      " 1   qid1             404266 non-null  int64 \n",
      " 2   qid2             404266 non-null  int64 \n",
      " 3   question1        404266 non-null  object\n",
      " 4   question2        404266 non-null  object\n",
      " 5   is_duplicate     404266 non-null  int64 \n",
      " 6   clean_question1  404266 non-null  object\n",
      " 7   clean_question2  404266 non-null  object\n",
      " 8   word_1           404266 non-null  int64 \n",
      " 9   word_2           404266 non-null  int64 \n",
      "dtypes: int64(6), object(4)\n",
      "memory usage: 33.9+ MB\n"
     ]
    }
   ],
   "source": [
    "train_df.info()"
   ]
  },
  {
   "cell_type": "code",
   "execution_count": null,
   "metadata": {
    "id": "lvq1rUSxJM4n"
   },
   "outputs": [],
   "source": [
    "tokenizer=keras.preprocessing.text.Tokenizer()"
   ]
  },
  {
   "cell_type": "code",
   "execution_count": null,
   "metadata": {
    "id": "B26_UWXjJM0o"
   },
   "outputs": [],
   "source": [
    "tokenizer.fit_on_texts(train_df['clean_question1'].values+train_df['clean_question2'].values)\n",
    "vocab_size=len(tokenizer.word_index)+1"
   ]
  },
  {
   "cell_type": "code",
   "execution_count": null,
   "metadata": {
    "id": "naKouswgJMpx"
   },
   "outputs": [],
   "source": [
    "train_df.to_csv('/content/drive/MyDrive/Kaggle/Quora_pairs_question/stop_word.csv')"
   ]
  },
  {
   "cell_type": "code",
   "execution_count": null,
   "metadata": {
    "id": "vLyQtf-UJutX"
   },
   "outputs": [],
   "source": [
    "import pickle\n",
    "with open('/content/drive/MyDrive/Kaggle/Quora_pairs_question/stop_tokenizer.pickle','wb') as f:\n",
    "  pickle.dump(tokenizer, f, protocol=pickle.HIGHEST_PROTOCOL)"
   ]
  },
  {
   "cell_type": "code",
   "execution_count": null,
   "metadata": {
    "colab": {
     "base_uri": "https://localhost:8080/"
    },
    "id": "5BXU_S0ylE0p",
    "outputId": "e3f164d6-f3db-4a7a-8409-bdbc63ab9b84"
   },
   "outputs": [
    {
     "name": "stdout",
     "output_type": "stream",
     "text": [
      "<class 'pandas.core.frame.DataFrame'>\n",
      "RangeIndex: 404266 entries, 0 to 404265\n",
      "Data columns (total 11 columns):\n",
      " #   Column           Non-Null Count   Dtype \n",
      "---  ------           --------------   ----- \n",
      " 0   Unnamed: 0       404266 non-null  int64 \n",
      " 1   id               404266 non-null  int64 \n",
      " 2   qid1             404266 non-null  int64 \n",
      " 3   qid2             404266 non-null  int64 \n",
      " 4   question1        404266 non-null  object\n",
      " 5   question2        404266 non-null  object\n",
      " 6   is_duplicate     404266 non-null  int64 \n",
      " 7   clean_question1  404265 non-null  object\n",
      " 8   clean_question2  404266 non-null  object\n",
      " 9   word_1           404266 non-null  int64 \n",
      " 10  word_2           404266 non-null  int64 \n",
      "dtypes: int64(7), object(4)\n",
      "memory usage: 33.9+ MB\n"
     ]
    }
   ],
   "source": [
    "train_df=pd.read_csv('/content/drive/MyDrive/Kaggle/Quora_pairs_question/stop_word.csv')\n",
    "train_df.info()"
   ]
  },
  {
   "cell_type": "code",
   "execution_count": null,
   "metadata": {
    "id": "QsxCRW9Cnjvf"
   },
   "outputs": [],
   "source": [
    "train_df.dropna(inplace=True)"
   ]
  },
  {
   "cell_type": "code",
   "execution_count": null,
   "metadata": {
    "id": "lF514eWylQRN"
   },
   "outputs": [],
   "source": [
    "import pickle \n",
    "with open('/content/drive/MyDrive/Kaggle/Quora_pairs_question/stop_tokenizer.pickle','rb') as f:\n",
    "  tokenizer=pickle.load(f)"
   ]
  },
  {
   "cell_type": "code",
   "execution_count": null,
   "metadata": {
    "id": "Ep3xjaJwpJTI"
   },
   "outputs": [],
   "source": [
    "vocab_size=len(tokenizer.word_index)+1"
   ]
  },
  {
   "cell_type": "code",
   "execution_count": null,
   "metadata": {
    "id": "4MpkNLKElxqt"
   },
   "outputs": [],
   "source": [
    "X_train,X_val=model_selection.train_test_split(train_df,test_size=0.1,stratify=train_df['is_duplicate'])"
   ]
  },
  {
   "cell_type": "code",
   "execution_count": null,
   "metadata": {
    "id": "lJhRAVeXlkIQ"
   },
   "outputs": [],
   "source": [
    "y_train=X_train['is_duplicate'].values\n",
    "y_val=X_val['is_duplicate'].values\n",
    "train_q_1=X_train['clean_question1'].values\n",
    "train_q_2=X_train['clean_question2'].values\n",
    "val_q1=X_val['clean_question1'].values\n",
    "val_q2=X_val['clean_question2'].values\n",
    "y_train=y_train.astype(np.uint8)\n",
    "y_val=y_val.astype(np.uint8)"
   ]
  },
  {
   "cell_type": "code",
   "execution_count": null,
   "metadata": {
    "colab": {
     "base_uri": "https://localhost:8080/"
    },
    "id": "JoLdf5CNmnci",
    "outputId": "cc338919-2159-4808-d491-185e64c90b99"
   },
   "outputs": [
    {
     "data": {
      "text/plain": [
       "((363838, 50), (363838, 50), (363838,), (40427, 50), (40427, 50), (40427,))"
      ]
     },
     "execution_count": 17,
     "metadata": {
      "tags": []
     },
     "output_type": "execute_result"
    }
   ],
   "source": [
    "train_q_1=tokenizer.texts_to_sequences(train_q_1)\n",
    "train_q_2=tokenizer.texts_to_sequences(train_q_2)\n",
    "val_q1=tokenizer.texts_to_sequences(val_q1)\n",
    "val_q2=tokenizer.texts_to_sequences(val_q2)\n",
    "\n",
    "\n",
    "train_q1_set=keras.preprocessing.sequence.pad_sequences(train_q_1,padding='post',maxlen=50)\n",
    "train_q2_set=keras.preprocessing.sequence.pad_sequences(train_q_2,padding='post',maxlen=50)\n",
    "val_q1_set=keras.preprocessing.sequence.pad_sequences(val_q1,padding='post',maxlen=50)\n",
    "val_q2_set=keras.preprocessing.sequence.pad_sequences(val_q2,padding='post',maxlen=50)\n",
    "train_q1_set.shape,train_q2_set.shape,y_train.shape,val_q1_set.shape,val_q2_set.shape,y_val.shape"
   ]
  },
  {
   "cell_type": "code",
   "execution_count": null,
   "metadata": {
    "id": "Q98OVeQjnvYS"
   },
   "outputs": [],
   "source": [
    "X_train_set=tf.data.Dataset.from_tensor_slices(((train_q1_set,train_q2_set),y_train)).batch(1024).prefetch(8)\n",
    "X_val_set=tf.data.Dataset.from_tensor_slices(((val_q1_set,val_q2_set),y_val)).batch(1024).prefetch(8)"
   ]
  },
  {
   "cell_type": "code",
   "execution_count": null,
   "metadata": {
    "id": "6na6ZkpZoKCB"
   },
   "outputs": [],
   "source": [
    "embading_index={}\n",
    "path = '/content/glove.6B.300d.txt'\n",
    "with open(path) as f:\n",
    "  for line in f:\n",
    "    key,value=line.split(maxsplit=1)\n",
    "    value=np.fromstring(value,\"f\",sep=\" \")\n",
    "    embading_index[key]=value\n",
    "\n",
    "print(\"Found {} word vector\".format(len(embading_index)))\n",
    "\n",
    "embading_dim=300\n",
    "num_tokens=vocab_size\n",
    "\n",
    "embading_matrix=np.zeros((num_tokens,embading_dim))\n",
    "for word,value in tokenizer.word_index.items():\n",
    "  embading_vector=embading_index.get(word)\n",
    "  if embading_vector is not None:\n",
    "      embading_matrix[value]=embading_vector\n",
    "\n"
   ]
  },
  {
   "cell_type": "code",
   "execution_count": null,
   "metadata": {
    "id": "PZam9BJ5o1rq"
   },
   "outputs": [],
   "source": [
    "emb_layer=keras.layers.Embedding(input_dim=vocab_size,\n",
    "                                 output_dim=embading_dim,\n",
    "                                 embeddings_initializer=keras.initializers.Constant(embading_matrix),\n",
    "                                 input_length=50,\n",
    "                                 trainable=True,\n",
    "                                 mask_zero=True)"
   ]
  },
  {
   "cell_type": "code",
   "execution_count": null,
   "metadata": {
    "colab": {
     "base_uri": "https://localhost:8080/"
    },
    "id": "0iG6Ymuwo7MS",
    "outputId": "7f3c8d40-4583-4601-8e88-c0194e145dd5"
   },
   "outputs": [
    {
     "name": "stdout",
     "output_type": "stream",
     "text": [
      "Model: \"model\"\n",
      "__________________________________________________________________________________________________\n",
      "Layer (type)                    Output Shape         Param #     Connected to                     \n",
      "==================================================================================================\n",
      "input_1 (InputLayer)            [(None, 50)]         0                                            \n",
      "__________________________________________________________________________________________________\n",
      "input_2 (InputLayer)            [(None, 50)]         0                                            \n",
      "__________________________________________________________________________________________________\n",
      "embedding (Embedding)           (None, 50, 300)      40048800    input_1[0][0]                    \n",
      "                                                                 input_2[0][0]                    \n",
      "__________________________________________________________________________________________________\n",
      "bidirectional (Bidirectional)   (None, 50, 256)      330240      embedding[0][0]                  \n",
      "__________________________________________________________________________________________________\n",
      "bidirectional_1 (Bidirectional) (None, 50, 256)      330240      embedding[1][0]                  \n",
      "__________________________________________________________________________________________________\n",
      "dropout (Dropout)               (None, 50, 256)      0           bidirectional[0][0]              \n",
      "__________________________________________________________________________________________________\n",
      "dropout_1 (Dropout)             (None, 50, 256)      0           bidirectional_1[0][0]            \n",
      "__________________________________________________________________________________________________\n",
      "concatenate (Concatenate)       (None, 50, 512)      0           dropout[0][0]                    \n",
      "                                                                 dropout_1[0][0]                  \n",
      "__________________________________________________________________________________________________\n",
      "bidirectional_2 (Bidirectional) (None, 50, 256)      493056      concatenate[0][0]                \n",
      "__________________________________________________________________________________________________\n",
      "bidirectional_3 (Bidirectional) (None, 256)          296448      bidirectional_2[0][0]            \n",
      "__________________________________________________________________________________________________\n",
      "dropout_2 (Dropout)             (None, 256)          0           bidirectional_3[0][0]            \n",
      "__________________________________________________________________________________________________\n",
      "dense (Dense)                   (None, 1)            257         dropout_2[0][0]                  \n",
      "==================================================================================================\n",
      "Total params: 41,499,041\n",
      "Trainable params: 41,499,041\n",
      "Non-trainable params: 0\n",
      "__________________________________________________________________________________________________\n"
     ]
    }
   ],
   "source": [
    "keras.backend.clear_session()\n",
    "#First Question input\n",
    "input_1=keras.layers.Input(shape=(50,))\n",
    "#Second Question input\n",
    "input_2=keras.layers.Input(shape=(50,))\n",
    "\n",
    "#Embedding First Question \n",
    "emb_1=emb_layer(input_1)\n",
    "\n",
    "#Embedding Second Question\n",
    "emb_2=emb_layer(input_2)\n",
    "\n",
    "#Fiture Extraction for first question\n",
    "X_1=keras.layers.Bidirectional(keras.layers.GRU(128,return_sequences=True))(emb_1)\n",
    "X_1=keras.layers.Dropout(0.2)(X_1)\n",
    "\n",
    "\n",
    "#Fiture Extraction for second question\n",
    "X_2=keras.layers.Bidirectional(keras.layers.GRU(128,return_sequences=True))(emb_2)\n",
    "X_2=keras.layers.Dropout(0.2)(X_2)\n",
    "\n",
    "con=keras.layers.concatenate([X_1,X_2])\n",
    "con=keras.layers.Bidirectional(keras.layers.GRU(128,return_sequences=True))(con)\n",
    "con=keras.layers.Bidirectional(keras.layers.GRU(128))(con)\n",
    "con=keras.layers.Dropout(0.2)(con)\n",
    "\n",
    "output=keras.layers.Dense(1,activation='sigmoid')(con)\n",
    "\n",
    "model=keras.Model(inputs=[input_1,input_2],outputs=[output])\n",
    "model.summary()"
   ]
  },
  {
   "cell_type": "code",
   "execution_count": null,
   "metadata": {
    "id": "eGNchHYYp7T3"
   },
   "outputs": [],
   "source": [
    "# this Function is for learning rate schedule \n",
    "# so the learning rate change depending of the val_loss\n",
    "# this function is get better result than ReduceLROnPlateau function that come with keras\n",
    "\n",
    "LR_START = 0.0000001\n",
    "LR_MIN = 0.000001\n",
    "LR_MAX = 0.0008\n",
    "LR_RAMPUP_EPOCHS = 3\n",
    "LR_SUSTAIN_EPOCHS = 0\n",
    "LR_EXP_DECAY = .8\n",
    "\n",
    "def lr_schedule(epoch):\n",
    "    if epoch < LR_RAMPUP_EPOCHS:\n",
    "        lr = (LR_MAX - LR_START) / LR_RAMPUP_EPOCHS * epoch + LR_START\n",
    "    elif epoch < LR_RAMPUP_EPOCHS + LR_SUSTAIN_EPOCHS:\n",
    "        lr = LR_MAX\n",
    "    else:\n",
    "        lr = (LR_MAX - LR_MIN) * LR_EXP_DECAY**(epoch - LR_RAMPUP_EPOCHS - LR_SUSTAIN_EPOCHS) + LR_MIN\n",
    "    return lr\n"
   ]
  },
  {
   "cell_type": "code",
   "execution_count": null,
   "metadata": {
    "id": "0eRQ9rbBqFAF"
   },
   "outputs": [],
   "source": [
    "erlay_stop=keras.callbacks.EarlyStopping(patience=3,monitor='val_loss')\n",
    "check_point=keras.callbacks.ModelCheckpoint('/content/drive/MyDrive/Kaggle/Quora_pairs_question/stop_word_model.h5',save_best_only=True,save_weights_only=True)\n",
    "lr_scheduler=keras.callbacks.LearningRateScheduler(lr_schedule)\n",
    "callbacks_list=[erlay_stop,check_point,lr_scheduler]"
   ]
  },
  {
   "cell_type": "code",
   "execution_count": null,
   "metadata": {
    "id": "rLFJ63IPqJtX"
   },
   "outputs": [],
   "source": [
    "model.compile(loss='binary_crossentropy',optimizer=keras.optimizers.RMSprop(0.0001),metrics=['accuracy'])"
   ]
  },
  {
   "cell_type": "code",
   "execution_count": null,
   "metadata": {
    "colab": {
     "base_uri": "https://localhost:8080/"
    },
    "id": "xGnFOfouqXa2",
    "outputId": "02536613-2208-49b7-b9d0-406908d783f7"
   },
   "outputs": [
    {
     "name": "stdout",
     "output_type": "stream",
     "text": [
      "Epoch 1/20\n",
      "356/356 [==============================] - 189s 451ms/step - loss: 0.6811 - accuracy: 0.5754 - val_loss: 0.6749 - val_accuracy: 0.6079\n",
      "Epoch 2/20\n",
      "356/356 [==============================] - 152s 428ms/step - loss: 0.5999 - accuracy: 0.6811 - val_loss: 0.5341 - val_accuracy: 0.7292\n",
      "Epoch 3/20\n",
      "356/356 [==============================] - 152s 428ms/step - loss: 0.5193 - accuracy: 0.7413 - val_loss: 0.4825 - val_accuracy: 0.7627\n",
      "Epoch 4/20\n",
      "356/356 [==============================] - 152s 428ms/step - loss: 0.4710 - accuracy: 0.7709 - val_loss: 0.4483 - val_accuracy: 0.7834\n",
      "Epoch 5/20\n",
      "356/356 [==============================] - 153s 428ms/step - loss: 0.4196 - accuracy: 0.8017 - val_loss: 0.4352 - val_accuracy: 0.7934\n",
      "Epoch 6/20\n",
      "356/356 [==============================] - 152s 428ms/step - loss: 0.3826 - accuracy: 0.8230 - val_loss: 0.4253 - val_accuracy: 0.8008\n",
      "Epoch 7/20\n",
      "356/356 [==============================] - 152s 428ms/step - loss: 0.3523 - accuracy: 0.8407 - val_loss: 0.4219 - val_accuracy: 0.8087\n",
      "Epoch 8/20\n",
      "356/356 [==============================] - 152s 428ms/step - loss: 0.3271 - accuracy: 0.8552 - val_loss: 0.4236 - val_accuracy: 0.8113\n",
      "Epoch 9/20\n",
      "356/356 [==============================] - 152s 428ms/step - loss: 0.3062 - accuracy: 0.8661 - val_loss: 0.4282 - val_accuracy: 0.8121\n",
      "Epoch 10/20\n",
      "356/356 [==============================] - 152s 428ms/step - loss: 0.2887 - accuracy: 0.8754 - val_loss: 0.4357 - val_accuracy: 0.8137\n"
     ]
    }
   ],
   "source": [
    "with tf.device('/device:GPU:0'):\n",
    "  history=model.fit(X_train_set,epochs=20,validation_data=(X_val_set),callbacks=callbacks_list)"
   ]
  },
  {
   "cell_type": "code",
   "execution_count": null,
   "metadata": {
    "id": "bwKUBc2_yDta"
   },
   "outputs": [],
   "source": [
    "jason_model=model.to_json()"
   ]
  },
  {
   "cell_type": "code",
   "execution_count": null,
   "metadata": {
    "id": "HKXBsoN-yJY6"
   },
   "outputs": [],
   "source": [
    "with open('/content/drive/MyDrive/Kaggle/Quora_pairs_question/stop_word_model.json','w') as f:\n",
    "  f.write(jason_model)"
   ]
  },
  {
   "cell_type": "code",
   "execution_count": null,
   "metadata": {
    "id": "QxUxSzP6y0jJ"
   },
   "outputs": [],
   "source": [
    "acc=history.history['accuracy']\n",
    "loss_acc=history.history['loss']\n",
    "val_acc=history.history['val_accuracy']\n",
    "val_loss=history.history['val_loss']\n",
    "y=range(len(acc))"
   ]
  },
  {
   "cell_type": "code",
   "execution_count": null,
   "metadata": {
    "colab": {
     "base_uri": "https://localhost:8080/",
     "height": 282
    },
    "id": "YlK3JuZTy4zW",
    "outputId": "e44b7568-3c31-43c6-988d-2f81ef37b0e6"
   },
   "outputs": [
    {
     "data": {
      "text/plain": [
       "[<matplotlib.lines.Line2D at 0x7f26dd69e5f8>]"
      ]
     },
     "execution_count": 33,
     "metadata": {
      "tags": []
     },
     "output_type": "execute_result"
    },
    {
     "data": {
      "image/png": "[encoded data removed]",
      "text/plain": [
       "<Figure size 432x288 with 1 Axes>"
      ]
     },
     "metadata": {
      "needs_background": "light",
      "tags": []
     },
     "output_type": "display_data"
    }
   ],
   "source": [
    "plt.plot(y,acc)\n",
    "plt.plot(y,val_acc)"
   ]
  },
  {
   "cell_type": "code",
   "execution_count": null,
   "metadata": {
    "colab": {
     "base_uri": "https://localhost:8080/",
     "height": 282
    },
    "id": "SOnrudPsy-Kr",
    "outputId": "06b687c0-540e-416d-c079-bd3008eb5106"
   },
   "outputs": [
    {
     "data": {
      "text/plain": [
       "[<matplotlib.lines.Line2D at 0x7f26dd69e390>]"
      ]
     },
     "execution_count": 34,
     "metadata": {
      "tags": []
     },
     "output_type": "execute_result"
    },
    {
     "data": {
      "image/png": "[encoded data removed]",
      "text/plain": [
       "<Figure size 432x288 with 1 Axes>"
      ]
     },
     "metadata": {
      "needs_background": "light",
      "tags": []
     },
     "output_type": "display_data"
    }
   ],
   "source": [
    "plt.plot(y,loss_acc)\n",
    "plt.plot(y,val_loss)"
   ]
  },
  {
   "cell_type": "markdown",
   "metadata": {
    "id": "Wh72yCcirOG4"
   },
   "source": [
    "# Predict"
   ]
  },
  {
   "cell_type": "code",
   "execution_count": null,
   "metadata": {
    "colab": {
     "base_uri": "https://localhost:8080/"
    },
    "id": "cbFVC8KrpvF4",
    "outputId": "4f29c3b4-b9c3-4fed-d287-ebfae67bd48e"
   },
   "outputs": [
    {
     "name": "stdout",
     "output_type": "stream",
     "text": [
      "Model: \"model\"\n",
      "__________________________________________________________________________________________________\n",
      "Layer (type)                    Output Shape         Param #     Connected to                     \n",
      "==================================================================================================\n",
      "input_1 (InputLayer)            [(None, 50)]         0                                            \n",
      "__________________________________________________________________________________________________\n",
      "input_2 (InputLayer)            [(None, 50)]         0                                            \n",
      "__________________________________________________________________________________________________\n",
      "embedding (Embedding)           (None, 50, 300)      80449800    input_1[0][0]                    \n",
      "                                                                 input_2[0][0]                    \n",
      "__________________________________________________________________________________________________\n",
      "bidirectional (Bidirectional)   (None, 50, 256)      330240      embedding[0][0]                  \n",
      "__________________________________________________________________________________________________\n",
      "bidirectional_1 (Bidirectional) (None, 50, 256)      330240      embedding[1][0]                  \n",
      "__________________________________________________________________________________________________\n",
      "gru_1 (GRU)                     (None, 128)          148224      bidirectional[0][0]              \n",
      "__________________________________________________________________________________________________\n",
      "gru_3 (GRU)                     (None, 128)          148224      bidirectional_1[0][0]            \n",
      "__________________________________________________________________________________________________\n",
      "dropout (Dropout)               (None, 128)          0           gru_1[0][0]                      \n",
      "__________________________________________________________________________________________________\n",
      "dropout_1 (Dropout)             (None, 128)          0           gru_3[0][0]                      \n",
      "__________________________________________________________________________________________________\n",
      "concatenate (Concatenate)       (None, 256)          0           dropout[0][0]                    \n",
      "                                                                 dropout_1[0][0]                  \n",
      "__________________________________________________________________________________________________\n",
      "dense (Dense)                   (None, 32)           8224        concatenate[0][0]                \n",
      "__________________________________________________________________________________________________\n",
      "dropout_2 (Dropout)             (None, 32)           0           dense[0][0]                      \n",
      "__________________________________________________________________________________________________\n",
      "dense_1 (Dense)                 (None, 1)            33          dropout_2[0][0]                  \n",
      "==================================================================================================\n",
      "Total params: 81,414,985\n",
      "Trainable params: 81,414,985\n",
      "Non-trainable params: 0\n",
      "__________________________________________________________________________________________________\n"
     ]
    }
   ],
   "source": [
    "model=keras.models.load_model('/content/drive/MyDrive/Kaggle/Quora_pairs_question/model.h5')\n",
    "model.summary()"
   ]
  },
  {
   "cell_type": "code",
   "execution_count": null,
   "metadata": {
    "colab": {
     "base_uri": "https://localhost:8080/"
    },
    "id": "B3ivtQ76rJ3i",
    "outputId": "497eb1e7-c522-4477-8df7-4203dfc45d79"
   },
   "outputs": [
    {
     "name": "stderr",
     "output_type": "stream",
     "text": [
      "/usr/local/lib/python3.6/dist-packages/IPython/core/interactiveshell.py:2718: DtypeWarning: Columns (0) have mixed types.Specify dtype option on import or set low_memory=False.\n",
      "  interactivity=interactivity, compiler=compiler, result=result)\n"
     ]
    }
   ],
   "source": [
    "test_df=pd.read_csv('/content/drive/MyDrive/Kaggle/Quora_pairs_question/test.csv.zip')"
   ]
  },
  {
   "cell_type": "code",
   "execution_count": null,
   "metadata": {
    "id": "m8SlNfJ_sJSW"
   },
   "outputs": [],
   "source": [
    "test_df.dropna(inplace=True)"
   ]
  },
  {
   "cell_type": "code",
   "execution_count": null,
   "metadata": {
    "id": "QMrJfJnerlid"
   },
   "outputs": [],
   "source": [
    "test_df['clean_question2']=test_df['question1'].apply(clean)\n",
    "#test_df['clean_question1']=test_df['question2'].apply(clean)"
   ]
  },
  {
   "cell_type": "code",
   "execution_count": null,
   "metadata": {
    "colab": {
     "base_uri": "https://localhost:8080/",
     "height": 736
    },
    "id": "KE4de_ZGrrOZ",
    "outputId": "9720669c-cf95-473b-92fd-c6fd4c95ed5d"
   },
   "outputs": [
    {
     "data": {
      "text/html": [
       "<div>\n",
       "<style scoped>\n",
       "    .dataframe tbody tr th:only-of-type {\n",
       "        vertical-align: middle;\n",
       "    }\n",
       "\n",
       "    .dataframe tbody tr th {\n",
       "        vertical-align: top;\n",
       "    }\n",
       "\n",
       "    .dataframe thead th {\n",
       "        text-align: right;\n",
       "    }\n",
       "</style>\n",
       "<table border=\"1\" class=\"dataframe\">\n",
       "  <thead>\n",
       "    <tr style=\"text-align: right;\">\n",
       "      <th></th>\n",
       "      <th>test_id</th>\n",
       "      <th>question1</th>\n",
       "      <th>question2</th>\n",
       "      <th>clean_question1</th>\n",
       "      <th>clean_question2</th>\n",
       "    </tr>\n",
       "  </thead>\n",
       "  <tbody>\n",
       "    <tr>\n",
       "      <th>0</th>\n",
       "      <td>0</td>\n",
       "      <td>How does the Surface Pro himself 4 compare wit...</td>\n",
       "      <td>Why did Microsoft choose core m3 and not core ...</td>\n",
       "      <td>microsoft choos cor m3 cor i3 hom surfac pro 4</td>\n",
       "      <td>surfac pro 4 comp ipad pro</td>\n",
       "    </tr>\n",
       "    <tr>\n",
       "      <th>1</th>\n",
       "      <td>1</td>\n",
       "      <td>Should I have a hair transplant at age 24? How...</td>\n",
       "      <td>How much cost does hair transplant require?</td>\n",
       "      <td>much cost hair transpl requir</td>\n",
       "      <td>hair transpl ag 24 much would cost</td>\n",
       "    </tr>\n",
       "    <tr>\n",
       "      <th>2</th>\n",
       "      <td>2</td>\n",
       "      <td>What but is the best way to send money from Ch...</td>\n",
       "      <td>What you send money to China?</td>\n",
       "      <td>send money chin</td>\n",
       "      <td>best way send money chin u</td>\n",
       "    </tr>\n",
       "    <tr>\n",
       "      <th>3</th>\n",
       "      <td>3</td>\n",
       "      <td>Which food not emulsifiers?</td>\n",
       "      <td>What foods fibre?</td>\n",
       "      <td>food fibr</td>\n",
       "      <td>food emuls</td>\n",
       "    </tr>\n",
       "    <tr>\n",
       "      <th>4</th>\n",
       "      <td>4</td>\n",
       "      <td>How \"aberystwyth\" start reading?</td>\n",
       "      <td>How their can I start reading?</td>\n",
       "      <td>start read</td>\n",
       "      <td>aberystwy start read</td>\n",
       "    </tr>\n",
       "    <tr>\n",
       "      <th>...</th>\n",
       "      <td>...</td>\n",
       "      <td>...</td>\n",
       "      <td>...</td>\n",
       "      <td>...</td>\n",
       "      <td>...</td>\n",
       "    </tr>\n",
       "    <tr>\n",
       "      <th>3563470</th>\n",
       "      <td>2345791</td>\n",
       "      <td>How do Peaks (TV series): Why did Leland kill ...</td>\n",
       "      <td>What is the most study scene in twin peaks?</td>\n",
       "      <td>study scen twin peak</td>\n",
       "      <td>peak tv sery leland kil laur palm</td>\n",
       "    </tr>\n",
       "    <tr>\n",
       "      <th>3563471</th>\n",
       "      <td>2345792</td>\n",
       "      <td>What does be \"in transit\" mean on FedEx tracking?</td>\n",
       "      <td>How question FedEx packages delivered?</td>\n",
       "      <td>quest fedex pack del</td>\n",
       "      <td>transit mean fedex track</td>\n",
       "    </tr>\n",
       "    <tr>\n",
       "      <th>3563472</th>\n",
       "      <td>2345793</td>\n",
       "      <td>What are some famous Romanian drinks (alcoholi...</td>\n",
       "      <td>Can a non-alcoholic restaurant be a huge success?</td>\n",
       "      <td>non alcohol resta hug success</td>\n",
       "      <td>fam rom drink alcohol non alcohol</td>\n",
       "    </tr>\n",
       "    <tr>\n",
       "      <th>3563473</th>\n",
       "      <td>2345794</td>\n",
       "      <td>What were the best and worst things about publ...</td>\n",
       "      <td>What are the best and worst things examination...</td>\n",
       "      <td>best worst thing examin publ transit visakhapa...</td>\n",
       "      <td>best worst thing publ transit proddatur, andhr...</td>\n",
       "    </tr>\n",
       "    <tr>\n",
       "      <th>3563474</th>\n",
       "      <td>2345795</td>\n",
       "      <td>What is the best medication equation erectile ...</td>\n",
       "      <td>How do I out get rid of Erectile Dysfunction?</td>\n",
       "      <td>get rid erectil dysfunct</td>\n",
       "      <td>best med equ erectil dysfunct</td>\n",
       "    </tr>\n",
       "  </tbody>\n",
       "</table>\n",
       "<p>3563466 rows × 5 columns</p>\n",
       "</div>"
      ],
      "text/plain": [
       "         test_id  ...                                    clean_question2\n",
       "0              0  ...                         surfac pro 4 comp ipad pro\n",
       "1              1  ...                 hair transpl ag 24 much would cost\n",
       "2              2  ...                         best way send money chin u\n",
       "3              3  ...                                         food emuls\n",
       "4              4  ...                               aberystwy start read\n",
       "...          ...  ...                                                ...\n",
       "3563470  2345791  ...                  peak tv sery leland kil laur palm\n",
       "3563471  2345792  ...                           transit mean fedex track\n",
       "3563472  2345793  ...                  fam rom drink alcohol non alcohol\n",
       "3563473  2345794  ...  best worst thing publ transit proddatur, andhr...\n",
       "3563474  2345795  ...                      best med equ erectil dysfunct\n",
       "\n",
       "[3563466 rows x 5 columns]"
      ]
     },
     "execution_count": 25,
     "metadata": {
      "tags": []
     },
     "output_type": "execute_result"
    }
   ],
   "source": [
    "test_df.fillna('empty')"
   ]
  },
  {
   "cell_type": "code",
   "execution_count": null,
   "metadata": {
    "colab": {
     "base_uri": "https://localhost:8080/"
    },
    "id": "voK9N1LPvn3h",
    "outputId": "2433444f-ce1e-48b7-9e89-7df62f687486"
   },
   "outputs": [
    {
     "data": {
      "text/plain": [
       "((3563466, 50), (3563466, 50))"
      ]
     },
     "execution_count": 26,
     "metadata": {
      "tags": []
     },
     "output_type": "execute_result"
    }
   ],
   "source": [
    "Q_2=tokenizer.texts_to_sequences(test_df['clean_question1'].values)\n",
    "Q_1=tokenizer.texts_to_sequences(test_df['clean_question2'].values)\n",
    "\n",
    "Q_1=keras.preprocessing.sequence.pad_sequences(Q_1,padding='post',maxlen=50)\n",
    "Q_2=keras.preprocessing.sequence.pad_sequences(Q_2,padding='post',maxlen=50)\n",
    "Q_1.shape,Q_2.shape"
   ]
  },
  {
   "cell_type": "code",
   "execution_count": null,
   "metadata": {
    "id": "SR62H7yqyJUk"
   },
   "outputs": [],
   "source": [
    "with tf.device(\"/device:GPU:0\"):\n",
    "  y_pred=model.predict([Q_1,Q_2])"
   ]
  },
  {
   "cell_type": "code",
   "execution_count": null,
   "metadata": {
    "id": "HOH36hVOyU3f"
   },
   "outputs": [],
   "source": [
    "submission=pd.read_csv('/content/drive/MyDrive/Kaggle/Quora_pairs_question/sample_submission.csv.zip')"
   ]
  },
  {
   "cell_type": "code",
   "execution_count": null,
   "metadata": {
    "colab": {
     "base_uri": "https://localhost:8080/"
    },
    "id": "CNIF277O8K9k",
    "outputId": "6753d577-eabd-4579-d20a-f5d48f91d1d9"
   },
   "outputs": [
    {
     "data": {
      "text/plain": [
       "(3563466, 1)"
      ]
     },
     "execution_count": 35,
     "metadata": {
      "tags": []
     },
     "output_type": "execute_result"
    }
   ],
   "source": [
    "y_pred.shape"
   ]
  },
  {
   "cell_type": "code",
   "execution_count": null,
   "metadata": {
    "colab": {
     "base_uri": "https://localhost:8080/"
    },
    "id": "Rz7In3RO8N9C",
    "outputId": "578a204c-9adb-4583-c30a-638a915b7e77"
   },
   "outputs": [
    {
     "name": "stdout",
     "output_type": "stream",
     "text": [
      "<class 'pandas.core.frame.DataFrame'>\n",
      "RangeIndex: 2345796 entries, 0 to 2345795\n",
      "Data columns (total 2 columns):\n",
      " #   Column        Dtype\n",
      "---  ------        -----\n",
      " 0   test_id       int64\n",
      " 1   is_duplicate  int64\n",
      "dtypes: int64(2)\n",
      "memory usage: 35.8 MB\n"
     ]
    }
   ],
   "source": [
    "submission.info()"
   ]
  },
  {
   "cell_type": "code",
   "execution_count": null,
   "metadata": {
    "id": "AduPIKZM8RQD"
   },
   "outputs": [],
   "source": [
    "test_df['is_duplicate']=y_pred"
   ]
  },
  {
   "cell_type": "code",
   "execution_count": null,
   "metadata": {
    "id": "l6wmXkNK8m2z"
   },
   "outputs": [],
   "source": [
    "submission=test_df[['test_id','is_duplicate']]"
   ]
  },
  {
   "cell_type": "code",
   "execution_count": null,
   "metadata": {
    "colab": {
     "base_uri": "https://localhost:8080/"
    },
    "id": "H8jSPceV8rFn",
    "outputId": "d73095fe-b470-461f-f510-57fcc5f2a9bb"
   },
   "outputs": [
    {
     "name": "stdout",
     "output_type": "stream",
     "text": [
      "<class 'pandas.core.frame.DataFrame'>\n",
      "Int64Index: 3563466 entries, 0 to 3563474\n",
      "Data columns (total 2 columns):\n",
      " #   Column        Dtype  \n",
      "---  ------        -----  \n",
      " 0   test_id       object \n",
      " 1   is_duplicate  float32\n",
      "dtypes: float32(1), object(1)\n",
      "memory usage: 68.0+ MB\n"
     ]
    }
   ],
   "source": [
    "submission.info()"
   ]
  },
  {
   "cell_type": "code",
   "execution_count": null,
   "metadata": {
    "id": "ggAqvFW_82Cd"
   },
   "outputs": [],
   "source": [
    "submission.to_csv('/content/drive/MyDrive/Kaggle/Quora_pairs_question/submission.csv',index=False)"
   ]
  },
  {
   "cell_type": "code",
   "execution_count": null,
   "metadata": {
    "colab": {
     "base_uri": "https://localhost:8080/"
    },
    "id": "i22bfCh29FKS",
    "outputId": "fe369bf2-a7b4-452b-bb74-6aca567a3fc3"
   },
   "outputs": [
    {
     "data": {
      "text/plain": [
       "array([[0.00483412],\n",
       "       [0.13996361],\n",
       "       [0.48302978],\n",
       "       [0.27382645],\n",
       "       [0.6091044 ],\n",
       "       [0.00237097],\n",
       "       [0.83158594],\n",
       "       [0.98182124],\n",
       "       [0.5849133 ],\n",
       "       [0.21343625]], dtype=float32)"
      ]
     },
     "execution_count": 43,
     "metadata": {
      "tags": []
     },
     "output_type": "execute_result"
    }
   ],
   "source": []
  },
  {
   "cell_type": "code",
   "execution_count": null,
   "metadata": {
    "id": "pOPrzgoa9Pmn"
   },
   "outputs": [],
   "source": []
  },
  {
   "cell_type": "code",
   "execution_count": null,
   "metadata": {
    "id": "vFh8_n4zZHcG"
   },
   "outputs": [],
   "source": [
    "from google.colab import drive\n",
    "drive.mount('/content/drive')"
   ]
  },
  {
   "cell_type": "code",
   "execution_count": null,
   "metadata": {
    "id": "5N6cl4HdZJAe"
   },
   "outputs": [],
   "source": [
    "!pip install flask-ngrok"
   ]
  },
  {
   "cell_type": "markdown",
   "metadata": {
    "id": "uRf8riW8zPLo"
   },
   "source": [
    "# load model"
   ]
  },
  {
   "cell_type": "markdown",
   "metadata": {
    "id": "BAR_BuM5OjrU"
   },
   "source": [
    "to make predict you should first import model then run this cell bellow "
   ]
  },
  {
   "cell_type": "code",
   "execution_count": 3,
   "metadata": {
    "colab": {
     "base_uri": "https://localhost:8080/"
    },
    "id": "0kIOEUkLHfu5",
    "outputId": "db59f4c0-8e0c-4447-9179-09f4e6b81c2f"
   },
   "outputs": [
    {
     "name": "stdout",
     "output_type": "stream",
     "text": [
      "[nltk_data] Downloading collection 'popular'\n",
      "[nltk_data]    | \n",
      "[nltk_data]    | Downloading package cmudict to /root/nltk_data...\n",
      "[nltk_data]    |   Unzipping corpora/cmudict.zip.\n",
      "[nltk_data]    | Downloading package gazetteers to /root/nltk_data...\n",
      "[nltk_data]    |   Unzipping corpora/gazetteers.zip.\n",
      "[nltk_data]    | Downloading package genesis to /root/nltk_data...\n",
      "[nltk_data]    |   Unzipping corpora/genesis.zip.\n",
      "[nltk_data]    | Downloading package gutenberg to /root/nltk_data...\n",
      "[nltk_data]    |   Unzipping corpora/gutenberg.zip.\n",
      "[nltk_data]    | Downloading package inaugural to /root/nltk_data...\n",
      "[nltk_data]    |   Unzipping corpora/inaugural.zip.\n",
      "[nltk_data]    | Downloading package movie_reviews to\n",
      "[nltk_data]    |     /root/nltk_data...\n",
      "[nltk_data]    |   Unzipping corpora/movie_reviews.zip.\n",
      "[nltk_data]    | Downloading package names to /root/nltk_data...\n",
      "[nltk_data]    |   Unzipping corpora/names.zip.\n",
      "[nltk_data]    | Downloading package shakespeare to /root/nltk_data...\n",
      "[nltk_data]    |   Unzipping corpora/shakespeare.zip.\n",
      "[nltk_data]    | Downloading package stopwords to /root/nltk_data...\n",
      "[nltk_data]    |   Unzipping corpora/stopwords.zip.\n",
      "[nltk_data]    | Downloading package treebank to /root/nltk_data...\n",
      "[nltk_data]    |   Unzipping corpora/treebank.zip.\n",
      "[nltk_data]    | Downloading package twitter_samples to\n",
      "[nltk_data]    |     /root/nltk_data...\n",
      "[nltk_data]    |   Unzipping corpora/twitter_samples.zip.\n",
      "[nltk_data]    | Downloading package omw to /root/nltk_data...\n",
      "[nltk_data]    |   Unzipping corpora/omw.zip.\n",
      "[nltk_data]    | Downloading package wordnet to /root/nltk_data...\n",
      "[nltk_data]    |   Unzipping corpora/wordnet.zip.\n",
      "[nltk_data]    | Downloading package wordnet_ic to /root/nltk_data...\n",
      "[nltk_data]    |   Unzipping corpora/wordnet_ic.zip.\n",
      "[nltk_data]    | Downloading package words to /root/nltk_data...\n",
      "[nltk_data]    |   Unzipping corpora/words.zip.\n",
      "[nltk_data]    | Downloading package maxent_ne_chunker to\n",
      "[nltk_data]    |     /root/nltk_data...\n",
      "[nltk_data]    |   Unzipping chunkers/maxent_ne_chunker.zip.\n",
      "[nltk_data]    | Downloading package punkt to /root/nltk_data...\n",
      "[nltk_data]    |   Unzipping tokenizers/punkt.zip.\n",
      "[nltk_data]    | Downloading package snowball_data to\n",
      "[nltk_data]    |     /root/nltk_data...\n",
      "[nltk_data]    | Downloading package averaged_perceptron_tagger to\n",
      "[nltk_data]    |     /root/nltk_data...\n",
      "[nltk_data]    |   Unzipping taggers/averaged_perceptron_tagger.zip.\n",
      "[nltk_data]    | \n",
      "[nltk_data]  Done downloading collection popular\n",
      "Model: \"model\"\n",
      "__________________________________________________________________________________________________\n",
      "Layer (type)                    Output Shape         Param #     Connected to                     \n",
      "==================================================================================================\n",
      "input_1 (InputLayer)            [(None, 50)]         0                                            \n",
      "__________________________________________________________________________________________________\n",
      "input_2 (InputLayer)            [(None, 50)]         0                                            \n",
      "__________________________________________________________________________________________________\n",
      "embedding (Embedding)           (None, 50, 300)      80449800    input_1[0][0]                    \n",
      "                                                                 input_2[0][0]                    \n",
      "__________________________________________________________________________________________________\n",
      "bidirectional (Bidirectional)   (None, 50, 256)      330240      embedding[0][0]                  \n",
      "__________________________________________________________________________________________________\n",
      "bidirectional_1 (Bidirectional) (None, 50, 256)      330240      embedding[1][0]                  \n",
      "__________________________________________________________________________________________________\n",
      "dropout (Dropout)               (None, 50, 256)      0           bidirectional[0][0]              \n",
      "__________________________________________________________________________________________________\n",
      "dropout_1 (Dropout)             (None, 50, 256)      0           bidirectional_1[0][0]            \n",
      "__________________________________________________________________________________________________\n",
      "concatenate (Concatenate)       (None, 50, 512)      0           dropout[0][0]                    \n",
      "                                                                 dropout_1[0][0]                  \n",
      "__________________________________________________________________________________________________\n",
      "bidirectional_2 (Bidirectional) (None, 256)          493056      concatenate[0][0]                \n",
      "__________________________________________________________________________________________________\n",
      "dropout_2 (Dropout)             (None, 256)          0           bidirectional_2[0][0]            \n",
      "__________________________________________________________________________________________________\n",
      "dense (Dense)                   (None, 1)            257         dropout_2[0][0]                  \n",
      "==================================================================================================\n",
      "Total params: 81,603,593\n",
      "Trainable params: 81,603,593\n",
      "Non-trainable params: 0\n",
      "__________________________________________________________________________________________________\n"
     ]
    }
   ],
   "source": [
    "import re\n",
    "import os\n",
    "\n",
    "import numpy as np\n",
    "import tensorflow as tf\n",
    "import tensorflow.keras as keras\n",
    "import pandas as pd\n",
    "import matplotlib.pyplot as plt\n",
    "\n",
    "import sklearn.model_selection as model_selection\n",
    "import sklearn.metrics as metrics \n",
    "\n",
    "import heapq\n",
    "import pickle\n",
    "import nltk\n",
    "nltk.download('popular')\n",
    "from nltk.corpus import stopwords\n",
    "STOPWORDS=set(stopwords.words('english'))\n",
    "lemmatizer=nltk.WordNetLemmatizer()\n",
    "stemmer=nltk.LancasterStemmer()\n",
    "\n",
    "def clean(data):\n",
    "  data=re.sub(r'[^a-zA-Z0-9,]',' ',data)\n",
    "  data=data.lower()\n",
    "  res=[word for word in data.split() if word not in STOPWORDS]\n",
    "  res=[stemmer.stem(word) for word in res]\n",
    "  res=[lemmatizer.lemmatize(word) for word in res]\n",
    "  return ' '.join(res)\n",
    "\n",
    "def load_database():\n",
    "  #paths for khalil\n",
    "  # /content/drive/MyDrive/Kaggle/Quora_pairs_question/clean_database.npy \n",
    "  # /content/drive/MyDrive/Kaggle/Quora_pairs_question/database.npy\n",
    "  clean_data= np.load('/gdrive/MyDrive/Quora_pairs_question/clean_database.npy',allow_pickle=True)\n",
    "  data=np.load('/gdrive/MyDrive/Quora_pairs_question/database.npy',allow_pickle=True)\n",
    "  return data,clean_data\n",
    "\n",
    "\n",
    "def make_predict(model,String,List_String,tokenizer,data):\n",
    "  \"\"\"\n",
    "  This function return the index of the best three sequnce lock like the String we pass to it \n",
    "  \n",
    "  parameter:\n",
    "    model: is the model we wont to predict throgh it .\n",
    "    String : the sequnce we wont to figure question simeller.\n",
    "    List_String : is the list of sequnce we have as Database.\n",
    "  \"\"\"\n",
    "  String=list(map(clean,String))\n",
    "  String=String*len(List_String)\n",
    "  q1=np.asarray(String)\n",
    "  q2_list=np.asarray(List_String)\n",
    "  q1=tokenizer.texts_to_sequences(q1)\n",
    "  q2_list=tokenizer.texts_to_sequences(q2_list)\n",
    "  q1=keras.preprocessing.sequence.pad_sequences(q1,padding='post',maxlen=50)\n",
    "  q2_list=keras.preprocessing.sequence.pad_sequences(q2_list,padding='post',maxlen=50)\n",
    "  y_pred=model.predict([q1,q2_list])\n",
    "  index=heapq.nlargest(3,range(len(y_pred)),y_pred.take)\n",
    "  for i in index:\n",
    "     yield data[i]\n",
    "  \n",
    "\n",
    "def load_json_model(json_path,wigth_path):\n",
    "  with open(json_path,'r') as f:\n",
    "    json_model=f.read()\n",
    "  model=keras.models.model_from_json(json_model)\n",
    "  model.load_weights(wigth_path)\n",
    "  return model\n",
    "\n",
    "#paths for khalil\n",
    "# /content/drive/MyDrive/Kaggle/Quora_pairs_question/tokenizer.pickle\n",
    "\n",
    "with open('/gdrive/MyDrive/Quora_pairs_question/tokenizer.pickle','rb') as f:\n",
    "  tokenizer=pickle.load(f)\n",
    "\n",
    "data,clean_data=load_database()\n",
    "\n",
    "#paths for khalil\n",
    "# /content/drive/MyDrive/Kaggle/Quora_pairs_question/model_2\n",
    "# /content/drive/MyDrive/Kaggle/Quora_pairs_question/model_2\n",
    "\n",
    "json_path='/gdrive/MyDrive/Quora_pairs_question/model_2.json'\n",
    "wight_path='/gdrive/MyDrive/Quora_pairs_question/model_2.h5'\n",
    "model=load_json_model(json_path,wight_path)\n",
    "model.summary()"
   ]
  },
  {
   "cell_type": "code",
   "execution_count": 4,
   "metadata": {
    "colab": {
     "base_uri": "https://localhost:8080/"
    },
    "id": "kwu50rnLYXA6",
    "outputId": "2ebcffdb-0045-4c92-c170-e21f6563698d"
   },
   "outputs": [
    {
     "data": {
      "text/plain": [
       "['How can I make money through the Internet?',\n",
       " 'What were the major effects of the cambodia earthquake, and how do these effects compare to the Kamchatca earthquakes in 1952?',\n",
       " 'What is best way to make money online?']"
      ]
     },
     "execution_count": 4,
     "metadata": {
      "tags": []
     },
     "output_type": "execute_result"
    }
   ],
   "source": [
    "string=['how to make money']\n",
    "list(make_predict(model,string,clean_data,tokenizer,data))"
   ]
  },
  {
   "cell_type": "code",
   "execution_count": null,
   "metadata": {
    "colab": {
     "base_uri": "https://localhost:8080/"
    },
    "id": "_WeqQMjIlTKl",
    "outputId": "a70e20d6-c1fa-4bc9-9fda-25c8ccfa3786"
   },
   "outputs": [
    {
     "name": "stdout",
     "output_type": "stream",
     "text": [
      " * Serving Flask app \"__main__\" (lazy loading)\n",
      " * Environment: production\n",
      "\u001b[31m   WARNING: This is a development server. Do not use it in a production deployment.\u001b[0m\n",
      "\u001b[2m   Use a production WSGI server instead.\u001b[0m\n",
      " * Debug mode: off\n"
     ]
    },
    {
     "name": "stderr",
     "output_type": "stream",
     "text": [
      " * Running on http://127.0.0.1:5000/ (Press CTRL+C to quit)\n"
     ]
    },
    {
     "name": "stdout",
     "output_type": "stream",
     "text": [
      " * Running on http://d7d09d5e221e.ngrok.io\n",
      " * Traffic stats available on http://127.0.0.1:4040\n"
     ]
    },
    {
     "name": "stderr",
     "output_type": "stream",
     "text": [
      "127.0.0.1 - - [10/Jan/2021 15:07:31] \"\u001b[31m\u001b[1mGET / HTTP/1.1\u001b[0m\" 405 -\n",
      "127.0.0.1 - - [10/Jan/2021 15:07:32] \"\u001b[33mGET /favicon.ico HTTP/1.1\u001b[0m\" 404 -\n",
      "127.0.0.1 - - [10/Jan/2021 15:07:47] \"\u001b[37mPOST / HTTP/1.1\u001b[0m\" 200 -\n",
      "127.0.0.1 - - [10/Jan/2021 15:08:15] \"\u001b[37mPOST / HTTP/1.1\u001b[0m\" 200 -\n",
      "127.0.0.1 - - [10/Jan/2021 15:09:07] \"\u001b[37mPOST / HTTP/1.1\u001b[0m\" 200 -\n"
     ]
    }
   ],
   "source": [
    "from flask_ngrok import run_with_ngrok\n",
    "from flask import *  \n",
    "app = Flask(__name__)  \n",
    "run_with_ngrok(app)   #starts ngrok when the app is run\n",
    "\n",
    "@app.route('/', methods = ['POST'])  \n",
    "def duplicate_questions():  \n",
    "    if request.method == 'POST': \n",
    "        question=request.form[\"question\"]\n",
    "        li=[]\n",
    "        li.append(question)\n",
    "        li2=list(make_predict(model,li,clean_data,tokenizer,data))\n",
    "        HtmlCode = \"\"\"<html>\n",
    "        <head></head>\n",
    "        <body style=\"background-color: hsla(89, 43%, 51%, 0.3);\">\n",
    "        <h1 style='text-align: center;color: #343434;text-shadow: 0 2px white, 0 3px #777;'>The Most Three Duplicate Questions</h1>\n",
    "        <dl>\n",
    "        <dt style=\"font-weight: bold;margin-left: 20px;\">Question 1:</dt>\n",
    "        <dd style=\"color: rgb(165,42,42);font-family: Perpetua;font-size:30\">\"\"\"+li2[0]+\"\"\"\n",
    "        </dd>\n",
    "        <dt style=\"font-weight: bold;margin-left: 20px;\">Question 2:</dt>\n",
    "        <dd style=\"color: rgb(165,42,42);font-family: Perpetua;font-size:30\">\"\"\"+li2[1]+\"\"\"\n",
    "        </dd>\n",
    "        <dt style=\"font-weight: bold;margin-left: 20px;\">Question 3:</dt>\n",
    "        <dd style=\"color: rgb(165,42,42);font-family: Perpetua;font-size:30\">\"\"\"+li2[2]+\"\"\"\n",
    "        </dd>\n",
    "        </dl>\n",
    "        </body>\n",
    "        </html>\"\"\"\n",
    "        return HtmlCode\n",
    "\n",
    "app.run()"
   ]
  }
 ],
 "metadata": {
  "accelerator": "GPU",
  "colab": {
   "collapsed_sections": [
    "0Xpa8_0CVWma",
    "B9WwsS4_U817",
    "6GLtzlbxikEB",
    "T-sgN_nE5Ea0"
   ],
   "name": "Copy of NLP_Project.ipynb",
   "provenance": [],
   "toc_visible": true
  },
  "kernelspec": {
   "display_name": "Python 3",
   "language": "python",
   "name": "python3"
  },
  "language_info": {
   "codemirror_mode": {
    "name": "ipython",
    "version": 3
   },
   "file_extension": ".py",
   "mimetype": "text/x-python",
   "name": "python",
   "nbconvert_exporter": "python",
   "pygments_lexer": "ipython3",
   "version": "3.9.2"
  }
 },
 "nbformat": 4,
 "nbformat_minor": 1
}
